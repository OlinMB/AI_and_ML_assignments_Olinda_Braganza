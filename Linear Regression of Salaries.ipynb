{
 "cells": [
  {
   "cell_type": "code",
   "execution_count": 90,
   "id": "3b497d49",
   "metadata": {},
   "outputs": [],
   "source": [
    "#for the linear regression model\n",
    "from sklearn.linear_model import LinearRegression\n",
    "#for splitting the dataset into training and testing data\n",
    "from sklearn.model_selection import train_test_split\n",
    "#for manipulation of the dataframe\n",
    "import pandas as pd\n",
    "#to plot the linear regression graph\n",
    "import matplotlib.pyplot as plt\n",
    "#to calculate the error metrics of the model\n",
    "from sklearn.metrics import mean_absolute_error, mean_absolute_percentage_error, mean_squared_error"
   ]
  },
  {
   "cell_type": "code",
   "execution_count": 91,
   "id": "ac4e37d5",
   "metadata": {},
   "outputs": [],
   "source": [
    "#importing the dataset\n",
    "salary = pd.read_csv('https://github.com/ybifoundation/Dataset/raw/main/Salary%20Data.csv')"
   ]
  },
  {
   "cell_type": "code",
   "execution_count": 123,
   "id": "f64bb02a",
   "metadata": {},
   "outputs": [],
   "source": [
    "#defining the x (independent) variable and y (dependent) variable\n",
    "x = salary.loc[:, ['Experience Years']].values\n",
    "y = salary.loc[:, ['Salary']].values"
   ]
  },
  {
   "cell_type": "code",
   "execution_count": 124,
   "id": "0eff5495",
   "metadata": {},
   "outputs": [
    {
     "data": {
      "text/html": [
       "<div>\n",
       "<style scoped>\n",
       "    .dataframe tbody tr th:only-of-type {\n",
       "        vertical-align: middle;\n",
       "    }\n",
       "\n",
       "    .dataframe tbody tr th {\n",
       "        vertical-align: top;\n",
       "    }\n",
       "\n",
       "    .dataframe thead th {\n",
       "        text-align: right;\n",
       "    }\n",
       "</style>\n",
       "<table border=\"1\" class=\"dataframe\">\n",
       "  <thead>\n",
       "    <tr style=\"text-align: right;\">\n",
       "      <th></th>\n",
       "      <th>Experience Years</th>\n",
       "      <th>Salary</th>\n",
       "    </tr>\n",
       "  </thead>\n",
       "  <tbody>\n",
       "    <tr>\n",
       "      <th>0</th>\n",
       "      <td>1.1</td>\n",
       "      <td>39343</td>\n",
       "    </tr>\n",
       "    <tr>\n",
       "      <th>1</th>\n",
       "      <td>1.2</td>\n",
       "      <td>42774</td>\n",
       "    </tr>\n",
       "    <tr>\n",
       "      <th>2</th>\n",
       "      <td>1.3</td>\n",
       "      <td>46205</td>\n",
       "    </tr>\n",
       "    <tr>\n",
       "      <th>3</th>\n",
       "      <td>1.5</td>\n",
       "      <td>37731</td>\n",
       "    </tr>\n",
       "    <tr>\n",
       "      <th>4</th>\n",
       "      <td>2.0</td>\n",
       "      <td>43525</td>\n",
       "    </tr>\n",
       "  </tbody>\n",
       "</table>\n",
       "</div>"
      ],
      "text/plain": [
       "   Experience Years  Salary\n",
       "0               1.1   39343\n",
       "1               1.2   42774\n",
       "2               1.3   46205\n",
       "3               1.5   37731\n",
       "4               2.0   43525"
      ]
     },
     "execution_count": 124,
     "metadata": {},
     "output_type": "execute_result"
    }
   ],
   "source": [
    "#displaying the first five entries of the dataset 'salary'\n",
    "salary.head()"
   ]
  },
  {
   "cell_type": "code",
   "execution_count": 125,
   "id": "fa452fd6",
   "metadata": {},
   "outputs": [],
   "source": [
    "#divide the dataset into training and testing data\n",
    "x_train, x_test, y_train, y_test = train_test_split(x, y, random_state=2529, train_size = .8)"
   ]
  },
  {
   "cell_type": "code",
   "execution_count": 126,
   "id": "696ab4a9",
   "metadata": {},
   "outputs": [],
   "source": [
    "#initializing the linear regression model for the dataset\n",
    "model = LinearRegression()"
   ]
  },
  {
   "cell_type": "code",
   "execution_count": 127,
   "id": "8aa3549f",
   "metadata": {},
   "outputs": [
    {
     "data": {
      "text/plain": [
       "LinearRegression()"
      ]
     },
     "execution_count": 127,
     "metadata": {},
     "output_type": "execute_result"
    }
   ],
   "source": [
    "#to fit the dataset 'salary' in the linear regression model\n",
    "model.fit(x_train, y_train)"
   ]
  },
  {
   "cell_type": "code",
   "execution_count": 128,
   "id": "42a27328",
   "metadata": {},
   "outputs": [
    {
     "name": "stdout",
     "output_type": "stream",
     "text": [
      "intercept: [26344.85810218]\n",
      "co-efficient: [[9398.19785815]]\n"
     ]
    }
   ],
   "source": [
    "#to find the intercept and coefficient of the trained model\n",
    "print('intercept:', model.intercept_)\n",
    "print('co-efficient:', model.coef_)"
   ]
  },
  {
   "cell_type": "code",
   "execution_count": 129,
   "id": "1d23b060",
   "metadata": {},
   "outputs": [
    {
     "name": "stdout",
     "output_type": "stream",
     "text": [
      "predicted values of the salaries for the test data: [[ 90252.60353757]\n",
      " [ 59238.55060569]\n",
      " [106229.53989642]\n",
      " [ 63937.64953476]\n",
      " [ 68636.74846383]\n",
      " [123146.29604108]\n",
      " [ 84613.68482268]\n",
      " [ 62997.82974895]]\n"
     ]
    }
   ],
   "source": [
    "#to predict the salaries for the test data of the years of experience\n",
    "y_predicted = model.predict(x_test)\n",
    "print('predicted values of the salaries for the test data:', y_predicted)"
   ]
  },
  {
   "cell_type": "code",
   "execution_count": 130,
   "id": "b901510c",
   "metadata": {},
   "outputs": [
    {
     "name": "stdout",
     "output_type": "stream",
     "text": [
      "mean squared error:  22326699.302527916\n"
     ]
    }
   ],
   "source": [
    "#to find the mean squared error between predicted and actual values of salary\n",
    "mean_squared = mean_squared_error(y_test, y_predicted)\n",
    "print('mean squared error: ', mean_squared)"
   ]
  },
  {
   "cell_type": "code",
   "execution_count": 131,
   "id": "281a0724",
   "metadata": {},
   "outputs": [
    {
     "name": "stdout",
     "output_type": "stream",
     "text": [
      "mean absolute error:  3688.1856785463488\n"
     ]
    }
   ],
   "source": [
    "#to find the mean absolute error between predicted and actual values of salary\n",
    "mean_absolute = mean_absolute_error(y_test, y_predicted)\n",
    "print('mean absolute error: ', mean_absolute)"
   ]
  },
  {
   "cell_type": "code",
   "execution_count": 132,
   "id": "2857e6a4",
   "metadata": {},
   "outputs": [
    {
     "name": "stdout",
     "output_type": "stream",
     "text": [
      "mean absolute percentage error:  0.050339688879149136\n"
     ]
    }
   ],
   "source": [
    "#to find the mean absolute percentage error between predicted and actual values of salary\n",
    "mean_absolute_percentage = mean_absolute_percentage_error(y_test, y_predicted)\n",
    "print('mean absolute percentage error: ', mean_absolute_percentage)"
   ]
  },
  {
   "cell_type": "code",
   "execution_count": 134,
   "id": "b74200d0",
   "metadata": {},
   "outputs": [
    {
     "data": {
      "image/png": "[encoded data removed]",
      "text/plain": [
       "<Figure size 432x288 with 1 Axes>"
      ]
     },
     "metadata": {
      "needs_background": "light"
     },
     "output_type": "display_data"
    }
   ],
   "source": [
    "plt.plot(x_train, y_train, 'o')\n",
    "plt.plot(x_test, y_predicted)\n",
    "plt.show()"
   ]
  },
  {
   "cell_type": "code",
   "execution_count": null,
   "id": "312de7b5",
   "metadata": {},
   "outputs": [],
   "source": []
  }
 ],
 "metadata": {
  "kernelspec": {
   "display_name": "Python 3 (ipykernel)",
   "language": "python",
   "name": "python3"
  },
  "language_info": {
   "codemirror_mode": {
    "name": "ipython",
    "version": 3
   },
   "file_extension": ".py",
   "mimetype": "text/x-python",
   "name": "python",
   "nbconvert_exporter": "python",
   "pygments_lexer": "ipython3",
   "version": "3.9.12"
  }
 },
 "nbformat": 4,
 "nbformat_minor": 5
}
