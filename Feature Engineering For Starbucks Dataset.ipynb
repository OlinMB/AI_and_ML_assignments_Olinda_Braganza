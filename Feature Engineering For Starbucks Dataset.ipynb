{
 "cells": [
  {
   "cell_type": "markdown",
   "id": "95f57345",
   "metadata": {},
   "source": [
    "# Introduction\n",
    "\n",
    "In this code, we will be demonstrating some aspects and methods of feature engineering, namely:\n",
    "\n",
    "1. Mean\n",
    "2. Normalization\n",
    "\n",
    "We will also be demonstrating two forms of Normalization, namely:\n",
    "\n",
    "1. Standard Scaler Normalization\n",
    "2. MinMax Scaler Normalization\n",
    "\n",
    "The dataset used in this code is in .csv format and gives information on ratings of Starbucks branches given by customers based on different factors and service offered by the coffee giant.\n",
    "\n",
    "To analyse the dataset, we shall first begin with importing the relevant packages."
   ]
  },
  {
   "cell_type": "code",
   "execution_count": 1,
   "id": "70bcaeaf",
   "metadata": {},
   "outputs": [],
   "source": [
    "#For data manipulation and analysis.\n",
    "import pandas as pd\n",
    "#For numerical operations on arrays and matrices\n",
    "import numpy as np\n",
    "#For creating visualizations and plots.\n",
    "import matplotlib.pyplot as plt"
   ]
  },
  {
   "cell_type": "markdown",
   "id": "4eea3459",
   "metadata": {},
   "source": [
    "The next step will be to import the dataset in question and display the first five entries of the dataset to study its contents and define the variables based on the values and ratings."
   ]
  },
  {
   "cell_type": "code",
   "execution_count": 2,
   "id": "cad94b6c",
   "metadata": {},
   "outputs": [
    {
     "data": {
      "text/html": [
       "<div>\n",
       "<style scoped>\n",
       "    .dataframe tbody tr th:only-of-type {\n",
       "        vertical-align: middle;\n",
       "    }\n",
       "\n",
       "    .dataframe tbody tr th {\n",
       "        vertical-align: top;\n",
       "    }\n",
       "\n",
       "    .dataframe thead th {\n",
       "        text-align: right;\n",
       "    }\n",
       "</style>\n",
       "<table border=\"1\" class=\"dataframe\">\n",
       "  <thead>\n",
       "    <tr style=\"text-align: right;\">\n",
       "      <th></th>\n",
       "      <th>spent</th>\n",
       "      <th>nearest_starbucks</th>\n",
       "      <th>age</th>\n",
       "      <th>rate_quality</th>\n",
       "      <th>rate_price</th>\n",
       "      <th>rate_promo</th>\n",
       "      <th>ambiance</th>\n",
       "      <th>wifi</th>\n",
       "      <th>service</th>\n",
       "      <th>meetings_hangout</th>\n",
       "    </tr>\n",
       "  </thead>\n",
       "  <tbody>\n",
       "    <tr>\n",
       "      <th>0</th>\n",
       "      <td>13</td>\n",
       "      <td>8</td>\n",
       "      <td>52</td>\n",
       "      <td>4</td>\n",
       "      <td>4</td>\n",
       "      <td>4</td>\n",
       "      <td>4</td>\n",
       "      <td>4</td>\n",
       "      <td>4</td>\n",
       "      <td>4</td>\n",
       "    </tr>\n",
       "    <tr>\n",
       "      <th>1</th>\n",
       "      <td>25</td>\n",
       "      <td>8</td>\n",
       "      <td>35</td>\n",
       "      <td>4</td>\n",
       "      <td>5</td>\n",
       "      <td>5</td>\n",
       "      <td>4</td>\n",
       "      <td>4</td>\n",
       "      <td>3</td>\n",
       "      <td>3</td>\n",
       "    </tr>\n",
       "    <tr>\n",
       "      <th>2</th>\n",
       "      <td>10</td>\n",
       "      <td>8</td>\n",
       "      <td>29</td>\n",
       "      <td>2</td>\n",
       "      <td>1</td>\n",
       "      <td>5</td>\n",
       "      <td>2</td>\n",
       "      <td>2</td>\n",
       "      <td>2</td>\n",
       "      <td>2</td>\n",
       "    </tr>\n",
       "    <tr>\n",
       "      <th>3</th>\n",
       "      <td>7</td>\n",
       "      <td>8</td>\n",
       "      <td>28</td>\n",
       "      <td>4</td>\n",
       "      <td>1</td>\n",
       "      <td>4</td>\n",
       "      <td>5</td>\n",
       "      <td>3</td>\n",
       "      <td>3</td>\n",
       "      <td>4</td>\n",
       "    </tr>\n",
       "    <tr>\n",
       "      <th>4</th>\n",
       "      <td>10</td>\n",
       "      <td>8</td>\n",
       "      <td>28</td>\n",
       "      <td>4</td>\n",
       "      <td>2</td>\n",
       "      <td>4</td>\n",
       "      <td>4</td>\n",
       "      <td>3</td>\n",
       "      <td>4</td>\n",
       "      <td>3</td>\n",
       "    </tr>\n",
       "  </tbody>\n",
       "</table>\n",
       "</div>"
      ],
      "text/plain": [
       "   spent  nearest_starbucks  age  rate_quality  rate_price  rate_promo  \\\n",
       "0     13                  8   52             4           4           4   \n",
       "1     25                  8   35             4           5           5   \n",
       "2     10                  8   29             2           1           5   \n",
       "3      7                  8   28             4           1           4   \n",
       "4     10                  8   28             4           2           4   \n",
       "\n",
       "   ambiance  wifi  service  meetings_hangout  \n",
       "0         4     4        4                 4  \n",
       "1         4     4        3                 3  \n",
       "2         2     2        2                 2  \n",
       "3         5     3        3                 4  \n",
       "4         4     3        4                 3  "
      ]
     },
     "execution_count": 2,
     "metadata": {},
     "output_type": "execute_result"
    }
   ],
   "source": [
    "#importing and displaying the dataset\n",
    "starbucks = pd.read_csv(\"https://raw.githubusercontent.com/aleenababy/AI-and-Machine-learning-lecture/main/Feature%20Engineering/Starbucks%20customer%20data/starbucks_customers.csv\", delimiter = \";\")\n",
    "starbucks.head()"
   ]
  },
  {
   "cell_type": "markdown",
   "id": "c1c84b59",
   "metadata": {},
   "source": [
    "## Description of the Dataset\n",
    "\n",
    "From the information that we have received from the dataset, we have found that the dataset has 10 variables, each of which have 122 entries. All of them are of type '64-bit interger' type:\n",
    "1. spent: Money spent on the meal            \n",
    "2. nearest_starbucks: Starbucks branch closest to locations relevant to customers  \n",
    "3. age : Age of customers        \n",
    "4. rate_quality : freshness and taste of the food items      \n",
    "5. rate_price : satisfaction with the price range of products     \n",
    "6. rate_promo : satisfaction with the promotional codes provided by Starbucks. \n",
    "7. ambiance :satisfaction with the interior design of the outlet           \n",
    "8. wifi : satisfaction with the wifi strength and speed.              \n",
    "9. service :satisfaction of customer service            \n",
    "10. meetings_hangout :comfort level of dining inside the outlets."
   ]
  },
  {
   "cell_type": "code",
   "execution_count": 3,
   "id": "5a006c61",
   "metadata": {},
   "outputs": [
    {
     "name": "stdout",
     "output_type": "stream",
     "text": [
      "<class 'pandas.core.frame.DataFrame'>\n",
      "RangeIndex: 122 entries, 0 to 121\n",
      "Data columns (total 10 columns):\n",
      " #   Column             Non-Null Count  Dtype\n",
      "---  ------             --------------  -----\n",
      " 0   spent              122 non-null    int64\n",
      " 1   nearest_starbucks  122 non-null    int64\n",
      " 2   age                122 non-null    int64\n",
      " 3   rate_quality       122 non-null    int64\n",
      " 4   rate_price         122 non-null    int64\n",
      " 5   rate_promo         122 non-null    int64\n",
      " 6   ambiance           122 non-null    int64\n",
      " 7   wifi               122 non-null    int64\n",
      " 8   service            122 non-null    int64\n",
      " 9   meetings_hangout   122 non-null    int64\n",
      "dtypes: int64(10)\n",
      "memory usage: 9.7 KB\n"
     ]
    }
   ],
   "source": [
    "#find information on the imported dataset\n",
    "starbucks.info()"
   ]
  },
  {
   "cell_type": "markdown",
   "id": "a6756706",
   "metadata": {},
   "source": [
    "## Missing Values\n",
    "\n",
    "Before we perform some feature engineering on the values in the dataset, it is imperative to make sure that there are no missing values in the dataset. We check for any missing values in the dataset, as well as the total number of missing values in each dataset. As per observation, there are no missing values in any entries of any variable."
   ]
  },
  {
   "cell_type": "code",
   "execution_count": 4,
   "id": "0fc534d2",
   "metadata": {},
   "outputs": [
    {
     "data": {
      "text/plain": [
       "spent                0\n",
       "nearest_starbucks    0\n",
       "age                  0\n",
       "rate_quality         0\n",
       "rate_price           0\n",
       "rate_promo           0\n",
       "ambiance             0\n",
       "wifi                 0\n",
       "service              0\n",
       "meetings_hangout     0\n",
       "dtype: int64"
      ]
     },
     "execution_count": 4,
     "metadata": {},
     "output_type": "execute_result"
    }
   ],
   "source": [
    "#check for missing values\n",
    "starbucks.isnull().sum()"
   ]
  },
  {
   "cell_type": "markdown",
   "id": "7df33d59",
   "metadata": {},
   "source": [
    "## Feature Engineering\n",
    "\n",
    "We shall demonstrate finding the mean of all the values in the variable 'age'. In the variable 'age', a range of values of the age of customers is provided. The mean of the ages are calculated by subtracting the age of the youngest person from the age of the oldest person. The maximum age is 70 years and the minumum age is 13 years, hence the mean value is 70 - 13 = 57 years."
   ]
  },
  {
   "cell_type": "code",
   "execution_count": 5,
   "id": "25f23ae9",
   "metadata": {},
   "outputs": [
    {
     "name": "stdout",
     "output_type": "stream",
     "text": [
      "70\n",
      "13\n"
     ]
    },
    {
     "data": {
      "text/plain": [
       "57.0"
      ]
     },
     "execution_count": 5,
     "metadata": {},
     "output_type": "execute_result"
    }
   ],
   "source": [
    "#to find the mean of the ages of people buying coffee\n",
    "age = starbucks[\"age\"]\n",
    "print(max(age))\n",
    "print(min(age))\n",
    "age_mean = np.mean(max(age) - min(age))\n",
    "age_mean"
   ]
  },
  {
   "cell_type": "markdown",
   "id": "d04529f5",
   "metadata": {},
   "source": [
    "## Checking Frequency of 'Age'\n",
    "\n",
    "Since feature engineering is being performed on 'Age', we shall check the distribution of the values in the variable to determine the age demographic of customers who frequents Starbucks. We write a code that plots the 'Count' vs 'Age', which gives a histogram of the 'Age' frequency, with a scale of 1 unit = 10 years on the X-axis and 1 unit = 5 on the Y-axis. From the graph, it is evident that the majority of the demographic of the customers is between the ages of 20 years and 30 years, whereas the ages between 55 years and 65 years do not go to Starbucks."
   ]
  },
  {
   "cell_type": "code",
   "execution_count": 6,
   "id": "a9220079",
   "metadata": {
    "scrolled": true
   },
   "outputs": [
    {
     "data": {
      "image/png": "[encoded data removed]",
      "text/plain": [
       "<Figure size 432x288 with 1 Axes>"
      ]
     },
     "metadata": {
      "needs_background": "light"
     },
     "output_type": "display_data"
    }
   ],
   "source": [
    "#to find the distribution of the age of customers with a histogram\n",
    "plt.hist(age, bins = 20, color = 'r')\n",
    "plt.title('Starbucks customers age')\n",
    "plt.xlabel('Age')\n",
    "plt.ylabel('Count')\n",
    "plt.savefig('./starbucks_customers_age.png', dpi = 100)\n",
    "plt.show()"
   ]
  },
  {
   "cell_type": "markdown",
   "id": "1da5ca28",
   "metadata": {},
   "source": [
    "## Plotting the Standard Deviation of 'Age'\n",
    "\n",
    "Standard Deviation is the deviation of the age of the customers from the mean age, which is denoted by 'age - age_mean', where 'age' is the age of the respective customer and 'age_mean' is the value of the mean age of all customers, combined. We write a code that plots the 'Count' vs 'Deviated Age', which gives a histogram of the deviation of 'Age' frequency, with a scale of 1 unit = 10 years on the X-axis and 1 unit = 5 on the Y-axis. The output shows maximum deviation from age to be between -40 years and -30 years, whilst there are no customers around the mean deviation. The deviation curve seems to be an inverted bell curve with maximum concentration between -40 and -30 years deviation."
   ]
  },
  {
   "cell_type": "code",
   "execution_count": 7,
   "id": "3a13b7a4",
   "metadata": {},
   "outputs": [
    {
     "data": {
      "image/png": "[encoded data removed]",
      "text/plain": [
       "<Figure size 432x288 with 1 Axes>"
      ]
     },
     "metadata": {
      "needs_background": "light"
     },
     "output_type": "display_data"
    }
   ],
   "source": [
    "#to find the values by which the ages divert from the mean age and plot a histogram distribution to detect outliers in the 'age' variable values\n",
    "centered_age = age - age_mean\n",
    "plt.hist(centered_age, bins = 20, color = 'r')\n",
    "plt.title('Starbucks customers age')\n",
    "plt.xlabel('Deviated Age')\n",
    "plt.ylabel('Count')\n",
    "plt.savefig('./starbucks_customers_age_centered.png', dpi = 100)\n",
    "plt.show()"
   ]
  },
  {
   "cell_type": "markdown",
   "id": "9227a7db",
   "metadata": {},
   "source": [
    "## Standard Normalization\n",
    "\n",
    "Standard normalization, also known as standardization or z-score normalization, is a method used to transform data so that it has a mean of 0 and a standard deviation of 1. This is commonly done to ensure that each feature contributes equally to the model, especially in machine learning algorithms that rely on distance calculations, such as k-nearest neighbors or support vector machines. The formula to standardize a dataset is:\n",
    "\n",
    "𝑧 = (𝑥 − 𝜇) / 𝜎\n",
    "\n",
    "Where:\n",
    "\n",
    "𝑧 : the standardized value.\n",
    "𝑥 : the original value.\n",
    "𝜇 : the mean of the dataset.\n",
    "𝜎 : the standard deviation of the dataset.\n",
    "\n",
    "Here, we perform standard normalization on the values of the variable 'age'. We find the values of Standard Mean and Standard Normal of the values of 'Age'. The Standard Mean of values of 'Age' is 1.601633215852685e-16 and the Standard Normal is 1."
   ]
  },
  {
   "cell_type": "code",
   "execution_count": 8,
   "id": "0593ce1c",
   "metadata": {},
   "outputs": [
    {
     "name": "stdout",
     "output_type": "stream",
     "text": [
      "1.601633215852685e-16\n",
      "1.0000000000000002\n"
     ]
    }
   ],
   "source": [
    "#to normalize ages by standard normalization\n",
    "standard_ages = (age - np.mean(age))/(np.std(age))\n",
    "standard_mean = np.mean(standard_ages)\n",
    "standard_normal = np.std(standard_ages)\n",
    "standard_ages\n",
    "print(standard_mean)\n",
    "print(standard_normal)"
   ]
  },
  {
   "cell_type": "markdown",
   "id": "b5114d18",
   "metadata": {},
   "source": [
    "## Standard Scaler Scaling and Fitting\n",
    "\n",
    "The StandardScaler is a feature scaling technique provided by the sklearn.preprocessing module in the Scikit-Learn library for Python. It standardizes features by removing the mean and scaling to unit variance, which results in a dataset with a mean of 0 and a standard deviation of 1 for each feature. This is done for the values of the variable 'Age', and then, the Standard Mean and Standard Normal of the scaled values are calculated. \n",
    "\n",
    "First, the object for Standard Scaling is initialized as 'scaler'. The values of the variable 'Age' is first reshaped into an array and then fitted into 'scaler'. The scaled values is saved in the variable 'ages_scaled' and the Standard Mean and Standard Normal of the scaled data. The Standard Mean of the scaled data is 1.7290358580227847e-16 and the Standard Normal of the scaled data is 0.9999999999999999."
   ]
  },
  {
   "cell_type": "code",
   "execution_count": 9,
   "id": "eab46724",
   "metadata": {},
   "outputs": [],
   "source": [
    "#Create an object for Standard Scaler\n",
    "from sklearn.preprocessing import StandardScaler\n",
    "scaler = StandardScaler()"
   ]
  },
  {
   "cell_type": "code",
   "execution_count": 10,
   "id": "1f4a395f",
   "metadata": {},
   "outputs": [
    {
     "name": "stdout",
     "output_type": "stream",
     "text": [
      "1.7290358580227847e-16\n",
      "0.9999999999999999\n"
     ]
    }
   ],
   "source": [
    "#reshape and scale the age variable\n",
    "ages_reshape = np.array(age).reshape(-1,1)\n",
    "ages_scaled = scaler.fit_transform(ages_reshape)\n",
    "print(np.mean(ages_scaled))\n",
    "print(np.std(ages_scaled))"
   ]
  },
  {
   "cell_type": "markdown",
   "id": "4e86e54f",
   "metadata": {},
   "source": [
    "## MinMax Scaler\n",
    "\n",
    "The MinMaxScaler is another feature scaling technique provided by the sklearn.preprocessing module in the Scikit-Learn library for Python. It transforms features by scaling each feature to a given range, typically between 0 and 1. This is particularly useful when you want to ensure that all features contribute equally to the distance calculations in algorithms like k-nearest neighbors or neural networks.\n",
    "\n",
    "First, the 'spent' column from the starbucks DataFrame is extracted and stored in the variable 'spent'. The 'spent' column presumably contains the amount of money spent by customers at Starbucks. This line normalizes the spent variable. Normalization is a technique to adjust the range of values so they fit within a specific scale, typically between 0 and 1. This is done using the formula:\n",
    "\n",
    "spent_normal = (spent − min(spent))/(max(spent) − min(spent))\n",
    " \n",
    "min(spent): Finds the minimum value in the spent column.\n",
    "max(spent): Finds the maximum value in the spent column.\n",
    "\n",
    "spent - min(spent): Subtracts the minimum value from each element in the spent column. (max(spent) - min(spent)): The range of the spent values (i.e., the difference between the maximum and minimum values). The result is that each value in spent is transformed to a value between 0 and 1, where 0 corresponds to the minimum value and 1 corresponds to the maximum value in the original spent data."
   ]
  },
  {
   "cell_type": "code",
   "execution_count": 11,
   "id": "76d4cc65",
   "metadata": {},
   "outputs": [
    {
     "data": {
      "text/plain": [
       "0      0.464286\n",
       "1      0.892857\n",
       "2      0.357143\n",
       "3      0.250000\n",
       "4      0.357143\n",
       "         ...   \n",
       "117    0.178571\n",
       "118    0.571429\n",
       "119    0.071429\n",
       "120    0.678571\n",
       "121    0.107143\n",
       "Name: spent, Length: 122, dtype: float64"
      ]
     },
     "execution_count": 11,
     "metadata": {},
     "output_type": "execute_result"
    }
   ],
   "source": [
    "#prepare and normalize the spent variable for scaling and find the amount of money spent on coffee according to age\n",
    "spent = starbucks['spent']\n",
    "spent_normal = (spent - min(spent))/(max(spent) - min(spent))\n",
    "spent_normal"
   ]
  },
  {
   "cell_type": "markdown",
   "id": "36afbfe4",
   "metadata": {},
   "source": [
    "This code imports the MinMaxScaler class from Scikit-Learn's preprocessing module, which is used for scaling features to a specified range. This creates an instance of the MinMaxScaler. By default, it scales the data to the range [0, 1]. Here, the age data (which is presumably a 1-dimensional array or list) is converted to a NumPy array and then reshaped into a 2-dimensional array with one column. Thenmreshaping is necessary because the MinMaxScaler expects a 2D array as input, where each feature is a column. This fits the MinMaxScaler to the spent_reshape data and then transforms it. The fit_transform method does both fitting and transforming in one step. Since we are using MinMaxScaler, the expected output should be 0 and 1, respectively."
   ]
  },
  {
   "cell_type": "code",
   "execution_count": 12,
   "id": "6f80348b",
   "metadata": {},
   "outputs": [],
   "source": [
    "#since this normalizes price range, we shall normalize it using MinMaxScaler\n",
    "from sklearn.preprocessing import MinMaxScaler\n",
    "mmscaler = MinMaxScaler()"
   ]
  },
  {
   "cell_type": "code",
   "execution_count": 13,
   "id": "d8c958c4",
   "metadata": {},
   "outputs": [
    {
     "name": "stdout",
     "output_type": "stream",
     "text": [
      "0.0\n",
      "0.9999999999999998\n"
     ]
    }
   ],
   "source": [
    "#reshape and scale the age variable\n",
    "spent_reshape = np.array(age).reshape(-1,1)\n",
    "spent_scaled = mmscaler.fit_transform(ages_reshape)\n",
    "print(np.min(spent_scaled))\n",
    "print(np.max(spent_scaled))"
   ]
  },
  {
   "cell_type": "markdown",
   "id": "9e65dd54",
   "metadata": {},
   "source": [
    "## Plotting the Distribution of the ages of Customers\n",
    "\n",
    "The code finds and prints the minimum and maximum ages of the customers. The ages are categorized into bins: \n",
    "[[12, 20), [20, 30), [30, 40), [40, 71).]\n",
    "\n",
    "The code assigns each age to a bin and prints the first 10 binned ages. A bar graph is plotted showing the count of customers in each age bin.\n",
    "\n",
    "The graph shows that the maximum range of ages of customer for starbucks is the maximum with a coount of almost 80, while the age range that garners the least number of customers lies between the 12 and 20, as well as between 40 and 71."
   ]
  },
  {
   "cell_type": "code",
   "execution_count": 14,
   "id": "de83f53d",
   "metadata": {},
   "outputs": [
    {
     "name": "stdout",
     "output_type": "stream",
     "text": [
      "13 70\n",
      "0    [40, 71)\n",
      "1    [30, 40)\n",
      "2    [20, 30)\n",
      "3    [20, 30)\n",
      "4    [20, 30)\n",
      "5    [20, 30)\n",
      "6    [20, 30)\n",
      "7    [20, 30)\n",
      "8    [20, 30)\n",
      "9    [20, 30)\n",
      "Name: binned_ages, dtype: category\n",
      "Categories (4, interval[int64, left]): [[12, 20) < [20, 30) < [30, 40) < [40, 71)]\n"
     ]
    },
    {
     "data": {
      "image/png": "[encoded data removed]",
      "text/plain": [
       "<Figure size 432x288 with 1 Axes>"
      ]
     },
     "metadata": {
      "needs_background": "light"
     },
     "output_type": "display_data"
    }
   ],
   "source": [
    "#find the minimum and maximum ages of the customers buying coffee at Starbucks\n",
    "print(np.min(age), np.max(age))\n",
    "\n",
    "age_bins = [12, 20, 30, 40, 71]\n",
    "\n",
    "starbucks[\"binned_ages\"] = pd.cut(starbucks['age'], age_bins, right = False)\n",
    "print(starbucks[\"binned_ages\"].head(10))\n",
    "\n",
    "# Plot the bar graph of binned distances\n",
    "starbucks['binned_ages'].value_counts().plot(kind='bar')\n",
    "\n",
    "# Label the bar graph\n",
    "plt.title('Starbucks customers age Distribution')\n",
    "plt.xlabel('age')\n",
    "plt.ylabel('Count')\n",
    "\n",
    "# Show the bar graph\n",
    "plt.show()"
   ]
  },
  {
   "cell_type": "markdown",
   "id": "7094474b",
   "metadata": {},
   "source": [
    "## The Updated Dataset\n",
    "\n",
    "A new column is added to the existing dataset 'Starbucks', named 'binned_ages'. The respective binned age corresponds to the age that is binned within the range."
   ]
  },
  {
   "cell_type": "code",
   "execution_count": 15,
   "id": "e38ea426",
   "metadata": {},
   "outputs": [
    {
     "data": {
      "text/html": [
       "<div>\n",
       "<style scoped>\n",
       "    .dataframe tbody tr th:only-of-type {\n",
       "        vertical-align: middle;\n",
       "    }\n",
       "\n",
       "    .dataframe tbody tr th {\n",
       "        vertical-align: top;\n",
       "    }\n",
       "\n",
       "    .dataframe thead th {\n",
       "        text-align: right;\n",
       "    }\n",
       "</style>\n",
       "<table border=\"1\" class=\"dataframe\">\n",
       "  <thead>\n",
       "    <tr style=\"text-align: right;\">\n",
       "      <th></th>\n",
       "      <th>spent</th>\n",
       "      <th>nearest_starbucks</th>\n",
       "      <th>age</th>\n",
       "      <th>rate_quality</th>\n",
       "      <th>rate_price</th>\n",
       "      <th>rate_promo</th>\n",
       "      <th>ambiance</th>\n",
       "      <th>wifi</th>\n",
       "      <th>service</th>\n",
       "      <th>meetings_hangout</th>\n",
       "      <th>binned_ages</th>\n",
       "    </tr>\n",
       "  </thead>\n",
       "  <tbody>\n",
       "    <tr>\n",
       "      <th>0</th>\n",
       "      <td>13</td>\n",
       "      <td>8</td>\n",
       "      <td>52</td>\n",
       "      <td>4</td>\n",
       "      <td>4</td>\n",
       "      <td>4</td>\n",
       "      <td>4</td>\n",
       "      <td>4</td>\n",
       "      <td>4</td>\n",
       "      <td>4</td>\n",
       "      <td>[40, 71)</td>\n",
       "    </tr>\n",
       "    <tr>\n",
       "      <th>1</th>\n",
       "      <td>25</td>\n",
       "      <td>8</td>\n",
       "      <td>35</td>\n",
       "      <td>4</td>\n",
       "      <td>5</td>\n",
       "      <td>5</td>\n",
       "      <td>4</td>\n",
       "      <td>4</td>\n",
       "      <td>3</td>\n",
       "      <td>3</td>\n",
       "      <td>[30, 40)</td>\n",
       "    </tr>\n",
       "    <tr>\n",
       "      <th>2</th>\n",
       "      <td>10</td>\n",
       "      <td>8</td>\n",
       "      <td>29</td>\n",
       "      <td>2</td>\n",
       "      <td>1</td>\n",
       "      <td>5</td>\n",
       "      <td>2</td>\n",
       "      <td>2</td>\n",
       "      <td>2</td>\n",
       "      <td>2</td>\n",
       "      <td>[20, 30)</td>\n",
       "    </tr>\n",
       "    <tr>\n",
       "      <th>3</th>\n",
       "      <td>7</td>\n",
       "      <td>8</td>\n",
       "      <td>28</td>\n",
       "      <td>4</td>\n",
       "      <td>1</td>\n",
       "      <td>4</td>\n",
       "      <td>5</td>\n",
       "      <td>3</td>\n",
       "      <td>3</td>\n",
       "      <td>4</td>\n",
       "      <td>[20, 30)</td>\n",
       "    </tr>\n",
       "    <tr>\n",
       "      <th>4</th>\n",
       "      <td>10</td>\n",
       "      <td>8</td>\n",
       "      <td>28</td>\n",
       "      <td>4</td>\n",
       "      <td>2</td>\n",
       "      <td>4</td>\n",
       "      <td>4</td>\n",
       "      <td>3</td>\n",
       "      <td>4</td>\n",
       "      <td>3</td>\n",
       "      <td>[20, 30)</td>\n",
       "    </tr>\n",
       "    <tr>\n",
       "      <th>...</th>\n",
       "      <td>...</td>\n",
       "      <td>...</td>\n",
       "      <td>...</td>\n",
       "      <td>...</td>\n",
       "      <td>...</td>\n",
       "      <td>...</td>\n",
       "      <td>...</td>\n",
       "      <td>...</td>\n",
       "      <td>...</td>\n",
       "      <td>...</td>\n",
       "      <td>...</td>\n",
       "    </tr>\n",
       "    <tr>\n",
       "      <th>117</th>\n",
       "      <td>5</td>\n",
       "      <td>0</td>\n",
       "      <td>22</td>\n",
       "      <td>3</td>\n",
       "      <td>4</td>\n",
       "      <td>5</td>\n",
       "      <td>4</td>\n",
       "      <td>3</td>\n",
       "      <td>4</td>\n",
       "      <td>2</td>\n",
       "      <td>[20, 30)</td>\n",
       "    </tr>\n",
       "    <tr>\n",
       "      <th>118</th>\n",
       "      <td>16</td>\n",
       "      <td>0</td>\n",
       "      <td>22</td>\n",
       "      <td>4</td>\n",
       "      <td>3</td>\n",
       "      <td>5</td>\n",
       "      <td>4</td>\n",
       "      <td>4</td>\n",
       "      <td>5</td>\n",
       "      <td>5</td>\n",
       "      <td>[20, 30)</td>\n",
       "    </tr>\n",
       "    <tr>\n",
       "      <th>119</th>\n",
       "      <td>2</td>\n",
       "      <td>0</td>\n",
       "      <td>20</td>\n",
       "      <td>4</td>\n",
       "      <td>3</td>\n",
       "      <td>5</td>\n",
       "      <td>5</td>\n",
       "      <td>4</td>\n",
       "      <td>4</td>\n",
       "      <td>3</td>\n",
       "      <td>[20, 30)</td>\n",
       "    </tr>\n",
       "    <tr>\n",
       "      <th>120</th>\n",
       "      <td>19</td>\n",
       "      <td>0</td>\n",
       "      <td>20</td>\n",
       "      <td>4</td>\n",
       "      <td>4</td>\n",
       "      <td>4</td>\n",
       "      <td>4</td>\n",
       "      <td>4</td>\n",
       "      <td>4</td>\n",
       "      <td>4</td>\n",
       "      <td>[20, 30)</td>\n",
       "    </tr>\n",
       "    <tr>\n",
       "      <th>121</th>\n",
       "      <td>3</td>\n",
       "      <td>0</td>\n",
       "      <td>14</td>\n",
       "      <td>3</td>\n",
       "      <td>3</td>\n",
       "      <td>3</td>\n",
       "      <td>3</td>\n",
       "      <td>3</td>\n",
       "      <td>3</td>\n",
       "      <td>3</td>\n",
       "      <td>[12, 20)</td>\n",
       "    </tr>\n",
       "  </tbody>\n",
       "</table>\n",
       "<p>122 rows × 11 columns</p>\n",
       "</div>"
      ],
      "text/plain": [
       "     spent  nearest_starbucks  age  rate_quality  rate_price  rate_promo  \\\n",
       "0       13                  8   52             4           4           4   \n",
       "1       25                  8   35             4           5           5   \n",
       "2       10                  8   29             2           1           5   \n",
       "3        7                  8   28             4           1           4   \n",
       "4       10                  8   28             4           2           4   \n",
       "..     ...                ...  ...           ...         ...         ...   \n",
       "117      5                  0   22             3           4           5   \n",
       "118     16                  0   22             4           3           5   \n",
       "119      2                  0   20             4           3           5   \n",
       "120     19                  0   20             4           4           4   \n",
       "121      3                  0   14             3           3           3   \n",
       "\n",
       "     ambiance  wifi  service  meetings_hangout binned_ages  \n",
       "0           4     4        4                 4    [40, 71)  \n",
       "1           4     4        3                 3    [30, 40)  \n",
       "2           2     2        2                 2    [20, 30)  \n",
       "3           5     3        3                 4    [20, 30)  \n",
       "4           4     3        4                 3    [20, 30)  \n",
       "..        ...   ...      ...               ...         ...  \n",
       "117         4     3        4                 2    [20, 30)  \n",
       "118         4     4        5                 5    [20, 30)  \n",
       "119         5     4        4                 3    [20, 30)  \n",
       "120         4     4        4                 4    [20, 30)  \n",
       "121         3     3        3                 3    [12, 20)  \n",
       "\n",
       "[122 rows x 11 columns]"
      ]
     },
     "execution_count": 15,
     "metadata": {},
     "output_type": "execute_result"
    }
   ],
   "source": [
    "starbucks"
   ]
  },
  {
   "cell_type": "markdown",
   "id": "bcc38a00",
   "metadata": {},
   "source": [
    "# Conclusion\n",
    "\n",
    "In this code, we have performed feature engineering on the features of 'Age' and 'Spendt', for the purpose of studying the pattern and distribution of customer demographics who are instrumental in growing Starbucks's business. It shows that the key demographic lies between the ages of 20 and 30 years of age and the distribution of customers lies between the ages of 12 years and 71 years. This information can be crucial in future product preferences and determination of optimal locations to grow the business."
   ]
  },
  {
   "cell_type": "code",
   "execution_count": null,
   "id": "b17394a4",
   "metadata": {},
   "outputs": [],
   "source": []
  }
 ],
 "metadata": {
  "kernelspec": {
   "display_name": "Python 3 (ipykernel)",
   "language": "python",
   "name": "python3"
  },
  "language_info": {
   "codemirror_mode": {
    "name": "ipython",
    "version": 3
   },
   "file_extension": ".py",
   "mimetype": "text/x-python",
   "name": "python",
   "nbconvert_exporter": "python",
   "pygments_lexer": "ipython3",
   "version": "3.9.12"
  }
 },
 "nbformat": 4,
 "nbformat_minor": 5
}
