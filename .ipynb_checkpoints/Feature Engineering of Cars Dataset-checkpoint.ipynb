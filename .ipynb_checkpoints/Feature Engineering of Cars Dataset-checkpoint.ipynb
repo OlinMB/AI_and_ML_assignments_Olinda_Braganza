{
 "cells": [
  {
   "cell_type": "markdown",
   "id": "1663d65b",
   "metadata": {},
   "source": [
    "# Introduction\n",
    "\n",
    "In this exercise, Feature Engineering is carried out on the dataset 'cars.csv', which gives different information on the "
   ]
  },
  {
   "cell_type": "code",
   "execution_count": 31,
   "id": "eb1334c1",
   "metadata": {},
   "outputs": [],
   "source": [
    "#For data manipulation and analysis.\n",
    "import pandas as pd\n",
    "#For numerical operations on arrays and matrices\n",
    "import numpy as np\n",
    "#For creating visualizations and plots.\n",
    "import matplotlib.pyplot as plt"
   ]
  },
  {
   "cell_type": "code",
   "execution_count": 32,
   "id": "e6540bf9",
   "metadata": {},
   "outputs": [
    {
     "data": {
      "text/html": [
       "<div>\n",
       "<style scoped>\n",
       "    .dataframe tbody tr th:only-of-type {\n",
       "        vertical-align: middle;\n",
       "    }\n",
       "\n",
       "    .dataframe tbody tr th {\n",
       "        vertical-align: top;\n",
       "    }\n",
       "\n",
       "    .dataframe thead th {\n",
       "        text-align: right;\n",
       "    }\n",
       "</style>\n",
       "<table border=\"1\" class=\"dataframe\">\n",
       "  <thead>\n",
       "    <tr style=\"text-align: right;\">\n",
       "      <th></th>\n",
       "      <th>Unnamed: 0</th>\n",
       "      <th>year</th>\n",
       "      <th>make</th>\n",
       "      <th>model</th>\n",
       "      <th>trim</th>\n",
       "      <th>body</th>\n",
       "      <th>transmission</th>\n",
       "      <th>vin</th>\n",
       "      <th>state</th>\n",
       "      <th>condition</th>\n",
       "      <th>odometer</th>\n",
       "      <th>color</th>\n",
       "      <th>interior</th>\n",
       "      <th>seller</th>\n",
       "      <th>mmr</th>\n",
       "      <th>sellingprice</th>\n",
       "      <th>saledate</th>\n",
       "    </tr>\n",
       "  </thead>\n",
       "  <tbody>\n",
       "    <tr>\n",
       "      <th>0</th>\n",
       "      <td>449069</td>\n",
       "      <td>2006</td>\n",
       "      <td>Chrysler</td>\n",
       "      <td>300</td>\n",
       "      <td>Base</td>\n",
       "      <td>Sedan</td>\n",
       "      <td>automatic</td>\n",
       "      <td>2c3ka43r76h366165</td>\n",
       "      <td>il</td>\n",
       "      <td>1.9</td>\n",
       "      <td>119618.0</td>\n",
       "      <td>blue</td>\n",
       "      <td>gray</td>\n",
       "      <td>go financial</td>\n",
       "      <td>4775</td>\n",
       "      <td>2500</td>\n",
       "      <td>Thu May 28 2015 03:00:00 GMT-0700 (PDT)</td>\n",
       "    </tr>\n",
       "    <tr>\n",
       "      <th>1</th>\n",
       "      <td>197199</td>\n",
       "      <td>2014</td>\n",
       "      <td>Volkswagen</td>\n",
       "      <td>Jetta</td>\n",
       "      <td>S</td>\n",
       "      <td>Sedan</td>\n",
       "      <td>manual</td>\n",
       "      <td>3vw1k7aj9em275429</td>\n",
       "      <td>ca</td>\n",
       "      <td>4.9</td>\n",
       "      <td>7740.0</td>\n",
       "      <td>—</td>\n",
       "      <td>black</td>\n",
       "      <td>volkswagen credit inc/sc</td>\n",
       "      <td>12050</td>\n",
       "      <td>12750</td>\n",
       "      <td>Wed Jul 01 2015 09:30:00 GMT-0700 (PDT)</td>\n",
       "    </tr>\n",
       "    <tr>\n",
       "      <th>2</th>\n",
       "      <td>288171</td>\n",
       "      <td>2007</td>\n",
       "      <td>Dodge</td>\n",
       "      <td>Durango</td>\n",
       "      <td>SLT</td>\n",
       "      <td>SUV</td>\n",
       "      <td>automatic</td>\n",
       "      <td>1d8hd48p97f510727</td>\n",
       "      <td>fl</td>\n",
       "      <td>1.9</td>\n",
       "      <td>166628.0</td>\n",
       "      <td>gold</td>\n",
       "      <td>tan</td>\n",
       "      <td>mid atlantic finance/clearwater</td>\n",
       "      <td>2850</td>\n",
       "      <td>2700</td>\n",
       "      <td>Wed Feb 11 2015 08:00:00 GMT-0800 (PST)</td>\n",
       "    </tr>\n",
       "    <tr>\n",
       "      <th>3</th>\n",
       "      <td>277025</td>\n",
       "      <td>2013</td>\n",
       "      <td>Mercedes-Benz</td>\n",
       "      <td>E-Class</td>\n",
       "      <td>E350 Sport</td>\n",
       "      <td>Sedan</td>\n",
       "      <td>automatic</td>\n",
       "      <td>wddhf5kb3da735753</td>\n",
       "      <td>tx</td>\n",
       "      <td>3.8</td>\n",
       "      <td>23923.0</td>\n",
       "      <td>white</td>\n",
       "      <td>off-white</td>\n",
       "      <td>mercedes-benz financial services</td>\n",
       "      <td>32200</td>\n",
       "      <td>32000</td>\n",
       "      <td>Thu Feb 12 2015 03:00:00 GMT-0800 (PST)</td>\n",
       "    </tr>\n",
       "    <tr>\n",
       "      <th>4</th>\n",
       "      <td>322760</td>\n",
       "      <td>2013</td>\n",
       "      <td>Ford</td>\n",
       "      <td>Explorer</td>\n",
       "      <td>XLT</td>\n",
       "      <td>SUV</td>\n",
       "      <td>automatic</td>\n",
       "      <td>1fm5k8d84dgc59887</td>\n",
       "      <td>mi</td>\n",
       "      <td>5.0</td>\n",
       "      <td>18494.0</td>\n",
       "      <td>red</td>\n",
       "      <td>black</td>\n",
       "      <td>ford motor credit company,llc</td>\n",
       "      <td>29100</td>\n",
       "      <td>28100</td>\n",
       "      <td>Thu Jun 11 2015 02:30:00 GMT-0700 (PDT)</td>\n",
       "    </tr>\n",
       "    <tr>\n",
       "      <th>5</th>\n",
       "      <td>308700</td>\n",
       "      <td>2013</td>\n",
       "      <td>Ford</td>\n",
       "      <td>Fusion</td>\n",
       "      <td>SE</td>\n",
       "      <td>Sedan</td>\n",
       "      <td>automatic</td>\n",
       "      <td>3fa6p0hr7dr127722</td>\n",
       "      <td>il</td>\n",
       "      <td>4.1</td>\n",
       "      <td>21798.0</td>\n",
       "      <td>silver</td>\n",
       "      <td>beige</td>\n",
       "      <td>ford motor credit company,llc</td>\n",
       "      <td>15450</td>\n",
       "      <td>16600</td>\n",
       "      <td>Thu Feb 19 2015 02:00:00 GMT-0800 (PST)</td>\n",
       "    </tr>\n",
       "    <tr>\n",
       "      <th>6</th>\n",
       "      <td>264244</td>\n",
       "      <td>2012</td>\n",
       "      <td>Toyota</td>\n",
       "      <td>Sienna</td>\n",
       "      <td>LE 8-Passenger</td>\n",
       "      <td>Minivan</td>\n",
       "      <td>automatic</td>\n",
       "      <td>5tdkk3dc0cs185967</td>\n",
       "      <td>fl</td>\n",
       "      <td>4.4</td>\n",
       "      <td>49648.0</td>\n",
       "      <td>blue</td>\n",
       "      <td>tan</td>\n",
       "      <td>world omni financial corporation</td>\n",
       "      <td>16900</td>\n",
       "      <td>18600</td>\n",
       "      <td>Tue Feb 10 2015 01:30:00 GMT-0800 (PST)</td>\n",
       "    </tr>\n",
       "    <tr>\n",
       "      <th>7</th>\n",
       "      <td>334017</td>\n",
       "      <td>2008</td>\n",
       "      <td>Honda</td>\n",
       "      <td>Accord</td>\n",
       "      <td>EX-L V-6</td>\n",
       "      <td>Sedan</td>\n",
       "      <td>automatic</td>\n",
       "      <td>1hgcp36808a078308</td>\n",
       "      <td>fl</td>\n",
       "      <td>2.8</td>\n",
       "      <td>103253.0</td>\n",
       "      <td>silver</td>\n",
       "      <td>gray</td>\n",
       "      <td>holman honda of fort lauderdale</td>\n",
       "      <td>9550</td>\n",
       "      <td>9300</td>\n",
       "      <td>Fri Feb 20 2015 09:35:00 GMT-0800 (PST)</td>\n",
       "    </tr>\n",
       "    <tr>\n",
       "      <th>8</th>\n",
       "      <td>492351</td>\n",
       "      <td>2012</td>\n",
       "      <td>Nissan</td>\n",
       "      <td>Rogue</td>\n",
       "      <td>S</td>\n",
       "      <td>suv</td>\n",
       "      <td>automatic</td>\n",
       "      <td>jn8as5mv5cw410901</td>\n",
       "      <td>tx</td>\n",
       "      <td>3.5</td>\n",
       "      <td>28592.0</td>\n",
       "      <td>silver</td>\n",
       "      <td>black</td>\n",
       "      <td>nissan-infiniti lt</td>\n",
       "      <td>17000</td>\n",
       "      <td>16800</td>\n",
       "      <td>Wed Jun 03 2015 03:30:00 GMT-0700 (PDT)</td>\n",
       "    </tr>\n",
       "    <tr>\n",
       "      <th>9</th>\n",
       "      <td>360022</td>\n",
       "      <td>2008</td>\n",
       "      <td>Chevrolet</td>\n",
       "      <td>Tahoe</td>\n",
       "      <td>LT</td>\n",
       "      <td>SUV</td>\n",
       "      <td>automatic</td>\n",
       "      <td>1gnfc13068r168582</td>\n",
       "      <td>ca</td>\n",
       "      <td>1.9</td>\n",
       "      <td>95544.0</td>\n",
       "      <td>black</td>\n",
       "      <td>black</td>\n",
       "      <td>exeter finance corp</td>\n",
       "      <td>17550</td>\n",
       "      <td>19000</td>\n",
       "      <td>Thu Feb 26 2015 04:00:00 GMT-0800 (PST)</td>\n",
       "    </tr>\n",
       "  </tbody>\n",
       "</table>\n",
       "</div>"
      ],
      "text/plain": [
       "   Unnamed: 0  year           make     model            trim     body  \\\n",
       "0      449069  2006       Chrysler       300            Base    Sedan   \n",
       "1      197199  2014     Volkswagen     Jetta               S    Sedan   \n",
       "2      288171  2007          Dodge   Durango             SLT      SUV   \n",
       "3      277025  2013  Mercedes-Benz   E-Class      E350 Sport    Sedan   \n",
       "4      322760  2013           Ford  Explorer             XLT      SUV   \n",
       "5      308700  2013           Ford    Fusion              SE    Sedan   \n",
       "6      264244  2012         Toyota    Sienna  LE 8-Passenger  Minivan   \n",
       "7      334017  2008          Honda    Accord        EX-L V-6    Sedan   \n",
       "8      492351  2012         Nissan     Rogue               S      suv   \n",
       "9      360022  2008      Chevrolet     Tahoe              LT      SUV   \n",
       "\n",
       "  transmission                vin state  condition  odometer   color  \\\n",
       "0    automatic  2c3ka43r76h366165    il        1.9  119618.0    blue   \n",
       "1       manual  3vw1k7aj9em275429    ca        4.9    7740.0       —   \n",
       "2    automatic  1d8hd48p97f510727    fl        1.9  166628.0    gold   \n",
       "3    automatic  wddhf5kb3da735753    tx        3.8   23923.0   white   \n",
       "4    automatic  1fm5k8d84dgc59887    mi        5.0   18494.0     red   \n",
       "5    automatic  3fa6p0hr7dr127722    il        4.1   21798.0  silver   \n",
       "6    automatic  5tdkk3dc0cs185967    fl        4.4   49648.0    blue   \n",
       "7    automatic  1hgcp36808a078308    fl        2.8  103253.0  silver   \n",
       "8    automatic  jn8as5mv5cw410901    tx        3.5   28592.0  silver   \n",
       "9    automatic  1gnfc13068r168582    ca        1.9   95544.0   black   \n",
       "\n",
       "    interior                            seller    mmr  sellingprice  \\\n",
       "0       gray                      go financial   4775          2500   \n",
       "1      black          volkswagen credit inc/sc  12050         12750   \n",
       "2        tan   mid atlantic finance/clearwater   2850          2700   \n",
       "3  off-white  mercedes-benz financial services  32200         32000   \n",
       "4      black     ford motor credit company,llc  29100         28100   \n",
       "5      beige     ford motor credit company,llc  15450         16600   \n",
       "6        tan  world omni financial corporation  16900         18600   \n",
       "7       gray   holman honda of fort lauderdale   9550          9300   \n",
       "8      black                nissan-infiniti lt  17000         16800   \n",
       "9      black               exeter finance corp  17550         19000   \n",
       "\n",
       "                                  saledate  \n",
       "0  Thu May 28 2015 03:00:00 GMT-0700 (PDT)  \n",
       "1  Wed Jul 01 2015 09:30:00 GMT-0700 (PDT)  \n",
       "2  Wed Feb 11 2015 08:00:00 GMT-0800 (PST)  \n",
       "3  Thu Feb 12 2015 03:00:00 GMT-0800 (PST)  \n",
       "4  Thu Jun 11 2015 02:30:00 GMT-0700 (PDT)  \n",
       "5  Thu Feb 19 2015 02:00:00 GMT-0800 (PST)  \n",
       "6  Tue Feb 10 2015 01:30:00 GMT-0800 (PST)  \n",
       "7  Fri Feb 20 2015 09:35:00 GMT-0800 (PST)  \n",
       "8  Wed Jun 03 2015 03:30:00 GMT-0700 (PDT)  \n",
       "9  Thu Feb 26 2015 04:00:00 GMT-0800 (PST)  "
      ]
     },
     "execution_count": 32,
     "metadata": {},
     "output_type": "execute_result"
    }
   ],
   "source": [
    "cars = pd.read_csv('https://raw.githubusercontent.com/aleenababy/AI-and-Machine-learning-lecture/main/Feature%20Engineering/Starbucks%20customer%20data/cars.csv', delimiter = \";\")\n",
    "cars.head(10)"
   ]
  },
  {
   "cell_type": "code",
   "execution_count": 33,
   "id": "9fff4f53",
   "metadata": {},
   "outputs": [
    {
     "data": {
      "image/png": "[encoded data removed]",
      "text/plain": [
       "<Figure size 432x288 with 1 Axes>"
      ]
     },
     "metadata": {
      "needs_background": "light"
     },
     "output_type": "display_data"
    },
    {
     "data": {
      "image/png": "[encoded data removed]",
      "text/plain": [
       "<Figure size 432x288 with 1 Axes>"
      ]
     },
     "metadata": {
      "needs_background": "light"
     },
     "output_type": "display_data"
    }
   ],
   "source": [
    "# set you price variable, which is the selling price of the cars listed\n",
    "prices = cars['sellingprice']\n",
    "\n",
    "## plot a histogram of prices\n",
    "plt.hist(prices, bins = 150)\n",
    "plt.show();\n",
    "## log transform prices\n",
    "log_prices = np.log(prices)\n",
    "\n",
    "## plot a histogram of log_prices\n",
    "plt.hist(log_prices, bins = 150)\n",
    "plt.show()"
   ]
  },
  {
   "cell_type": "code",
   "execution_count": 34,
   "id": "2d186ea1",
   "metadata": {
    "scrolled": true
   },
   "outputs": [
    {
     "data": {
      "text/plain": [
       "array(['Chrysler', 'Volkswagen', 'Dodge', 'Mercedes-Benz', 'Ford',\n",
       "       'Toyota', 'Honda', 'Nissan', 'Chevrolet', 'Jeep', 'Hyundai', 'GMC',\n",
       "       'Jaguar', 'Audi', 'Lexus', 'Pontiac', 'BMW', nan, 'Suzuki',\n",
       "       'Mitsubishi', 'Kia', 'MINI', 'Ram', 'Acura', 'Subaru', 'Buick',\n",
       "       'Mazda', 'Volvo', 'Infiniti', 'mazda', 'cadillac', 'Isuzu', 'bmw',\n",
       "       'Mercury', 'Land Rover', 'Lincoln', 'smart', 'nissan', 'HUMMER',\n",
       "       'Cadillac', 'Saturn', 'Scion', 'Saab', 'FIAT', 'Porsche',\n",
       "       'Rolls-Royce', 'Oldsmobile', 'chevrolet', 'lexus', 'mercedes',\n",
       "       'ford', 'chrysler', 'Daewoo', 'Maserati', 'hyundai', 'dodge',\n",
       "       'toyota', 'land rover', 'jeep', 'mitsubishi', 'subaru',\n",
       "       'oldsmobile', 'honda'], dtype=object)"
      ]
     },
     "execution_count": 34,
     "metadata": {},
     "output_type": "execute_result"
    }
   ],
   "source": [
    "cars[\"make\"].unique()"
   ]
  },
  {
   "cell_type": "code",
   "execution_count": 35,
   "id": "8b495550",
   "metadata": {},
   "outputs": [
    {
     "data": {
      "text/html": [
       "<div>\n",
       "<style scoped>\n",
       "    .dataframe tbody tr th:only-of-type {\n",
       "        vertical-align: middle;\n",
       "    }\n",
       "\n",
       "    .dataframe tbody tr th {\n",
       "        vertical-align: top;\n",
       "    }\n",
       "\n",
       "    .dataframe thead th {\n",
       "        text-align: right;\n",
       "    }\n",
       "</style>\n",
       "<table border=\"1\" class=\"dataframe\">\n",
       "  <thead>\n",
       "    <tr style=\"text-align: right;\">\n",
       "      <th></th>\n",
       "      <th>Unnamed: 0</th>\n",
       "      <th>year</th>\n",
       "      <th>make</th>\n",
       "      <th>model</th>\n",
       "      <th>trim</th>\n",
       "      <th>body</th>\n",
       "      <th>transmission</th>\n",
       "      <th>vin</th>\n",
       "      <th>state</th>\n",
       "      <th>condition</th>\n",
       "      <th>odometer</th>\n",
       "      <th>color</th>\n",
       "      <th>interior</th>\n",
       "      <th>seller</th>\n",
       "      <th>mmr</th>\n",
       "      <th>sellingprice</th>\n",
       "      <th>saledate</th>\n",
       "    </tr>\n",
       "  </thead>\n",
       "  <tbody>\n",
       "    <tr>\n",
       "      <th>4</th>\n",
       "      <td>322760</td>\n",
       "      <td>2013</td>\n",
       "      <td>Ford</td>\n",
       "      <td>Explorer</td>\n",
       "      <td>XLT</td>\n",
       "      <td>SUV</td>\n",
       "      <td>automatic</td>\n",
       "      <td>1fm5k8d84dgc59887</td>\n",
       "      <td>mi</td>\n",
       "      <td>5.0</td>\n",
       "      <td>18494.0</td>\n",
       "      <td>red</td>\n",
       "      <td>black</td>\n",
       "      <td>ford motor credit company,llc</td>\n",
       "      <td>29100</td>\n",
       "      <td>28100</td>\n",
       "      <td>Thu Jun 11 2015 02:30:00 GMT-0700 (PDT)</td>\n",
       "    </tr>\n",
       "    <tr>\n",
       "      <th>5</th>\n",
       "      <td>308700</td>\n",
       "      <td>2013</td>\n",
       "      <td>Ford</td>\n",
       "      <td>Fusion</td>\n",
       "      <td>SE</td>\n",
       "      <td>Sedan</td>\n",
       "      <td>automatic</td>\n",
       "      <td>3fa6p0hr7dr127722</td>\n",
       "      <td>il</td>\n",
       "      <td>4.1</td>\n",
       "      <td>21798.0</td>\n",
       "      <td>silver</td>\n",
       "      <td>beige</td>\n",
       "      <td>ford motor credit company,llc</td>\n",
       "      <td>15450</td>\n",
       "      <td>16600</td>\n",
       "      <td>Thu Feb 19 2015 02:00:00 GMT-0800 (PST)</td>\n",
       "    </tr>\n",
       "    <tr>\n",
       "      <th>15</th>\n",
       "      <td>283047</td>\n",
       "      <td>2013</td>\n",
       "      <td>Ford</td>\n",
       "      <td>Escape</td>\n",
       "      <td>SE</td>\n",
       "      <td>SUV</td>\n",
       "      <td>automatic</td>\n",
       "      <td>1fmcu0gx9dud57191</td>\n",
       "      <td>fl</td>\n",
       "      <td>2.0</td>\n",
       "      <td>31571.0</td>\n",
       "      <td>white</td>\n",
       "      <td>gray</td>\n",
       "      <td>sixrentals corp/damage liquidation</td>\n",
       "      <td>15350</td>\n",
       "      <td>7000</td>\n",
       "      <td>Tue Feb 10 2015 01:30:00 GMT-0800 (PST)</td>\n",
       "    </tr>\n",
       "    <tr>\n",
       "      <th>30</th>\n",
       "      <td>367184</td>\n",
       "      <td>2007</td>\n",
       "      <td>Ford</td>\n",
       "      <td>F-150</td>\n",
       "      <td>XLT</td>\n",
       "      <td>SuperCrew</td>\n",
       "      <td>automatic</td>\n",
       "      <td>1ftpw14v97fb25546</td>\n",
       "      <td>co</td>\n",
       "      <td>2.2</td>\n",
       "      <td>209700.0</td>\n",
       "      <td>red</td>\n",
       "      <td>gray</td>\n",
       "      <td>gm financial</td>\n",
       "      <td>5750</td>\n",
       "      <td>5500</td>\n",
       "      <td>Tue Mar 03 2015 04:00:00 GMT-0800 (PST)</td>\n",
       "    </tr>\n",
       "    <tr>\n",
       "      <th>38</th>\n",
       "      <td>311531</td>\n",
       "      <td>2009</td>\n",
       "      <td>Ford</td>\n",
       "      <td>Focus</td>\n",
       "      <td>SES</td>\n",
       "      <td>Sedan</td>\n",
       "      <td>automatic</td>\n",
       "      <td>1fahp36n09w207457</td>\n",
       "      <td>md</td>\n",
       "      <td>3.0</td>\n",
       "      <td>131088.0</td>\n",
       "      <td>black</td>\n",
       "      <td>gray</td>\n",
       "      <td>f &amp; j auto brokers inc</td>\n",
       "      <td>4225</td>\n",
       "      <td>1800</td>\n",
       "      <td>Tue Feb 17 2015 05:00:00 GMT-0800 (PST)</td>\n",
       "    </tr>\n",
       "  </tbody>\n",
       "</table>\n",
       "</div>"
      ],
      "text/plain": [
       "    Unnamed: 0  year  make     model trim       body transmission  \\\n",
       "4       322760  2013  Ford  Explorer  XLT        SUV    automatic   \n",
       "5       308700  2013  Ford    Fusion   SE      Sedan    automatic   \n",
       "15      283047  2013  Ford    Escape   SE        SUV    automatic   \n",
       "30      367184  2007  Ford     F-150  XLT  SuperCrew    automatic   \n",
       "38      311531  2009  Ford     Focus  SES      Sedan    automatic   \n",
       "\n",
       "                  vin state  condition  odometer   color interior  \\\n",
       "4   1fm5k8d84dgc59887    mi        5.0   18494.0     red    black   \n",
       "5   3fa6p0hr7dr127722    il        4.1   21798.0  silver    beige   \n",
       "15  1fmcu0gx9dud57191    fl        2.0   31571.0   white     gray   \n",
       "30  1ftpw14v97fb25546    co        2.2  209700.0     red     gray   \n",
       "38  1fahp36n09w207457    md        3.0  131088.0   black     gray   \n",
       "\n",
       "                                seller    mmr  sellingprice  \\\n",
       "4        ford motor credit company,llc  29100         28100   \n",
       "5        ford motor credit company,llc  15450         16600   \n",
       "15  sixrentals corp/damage liquidation  15350          7000   \n",
       "30                        gm financial   5750          5500   \n",
       "38              f & j auto brokers inc   4225          1800   \n",
       "\n",
       "                                   saledate  \n",
       "4   Thu Jun 11 2015 02:30:00 GMT-0700 (PDT)  \n",
       "5   Thu Feb 19 2015 02:00:00 GMT-0800 (PST)  \n",
       "15  Tue Feb 10 2015 01:30:00 GMT-0800 (PST)  \n",
       "30  Tue Mar 03 2015 04:00:00 GMT-0800 (PST)  \n",
       "38  Tue Feb 17 2015 05:00:00 GMT-0800 (PST)  "
      ]
     },
     "execution_count": 35,
     "metadata": {},
     "output_type": "execute_result"
    }
   ],
   "source": [
    "#Let us analyze a certain brand, like Ford\n",
    "Ford = cars[cars[\"make\"]==\"Ford\"]\n",
    "Ford.head()"
   ]
  },
  {
   "cell_type": "code",
   "execution_count": 36,
   "id": "98c92ef9",
   "metadata": {},
   "outputs": [
    {
     "data": {
      "text/plain": [
       "array(['Explorer', 'Fusion', 'Escape', 'F-150', 'Focus', 'Taurus', 'Edge',\n",
       "       'F-250 Super Duty', 'Mustang', 'Expedition', 'E-Series Wagon',\n",
       "       'E-Series Van', 'Ranger', 'Shelby GT500', 'Explorer Sport Trac',\n",
       "       'Flex', 'F-350 Super Duty', 'Fiesta', 'Econoline Cargo',\n",
       "       'Freestar', 'Five Hundred', 'Fusion Hybrid', 'Transit Connect',\n",
       "       'C-Max Energi', 'C-Max Hybrid', 'Freestyle', 'Crown Victoria',\n",
       "       'Expedition EL', 'Escape Hybrid', 'Explorer Sport', 'Taurus X',\n",
       "       'Excursion', 'Econoline Wagon', 'Focus ST', 'F-450 Super Duty',\n",
       "       'Windstar', 'F-150 Heritage'], dtype=object)"
      ]
     },
     "execution_count": 36,
     "metadata": {},
     "output_type": "execute_result"
    }
   ],
   "source": [
    "#Find the unique models of Ford Cars\n",
    "Ford[\"model\"].unique()"
   ]
  },
  {
   "cell_type": "code",
   "execution_count": 37,
   "id": "bd351cfc",
   "metadata": {},
   "outputs": [
    {
     "name": "stdout",
     "output_type": "stream",
     "text": [
      "1.9    732\n",
      "3.5    507\n",
      "4.3    475\n",
      "4.4    468\n",
      "4.1    460\n",
      "3.7    446\n",
      "3.6    422\n",
      "4.2    404\n",
      "2.0    376\n",
      "4.0    370\n",
      "2.9    357\n",
      "3.9    351\n",
      "2.8    338\n",
      "2.7    303\n",
      "3.4    303\n",
      "3.8    297\n",
      "2.6    225\n",
      "4.9    224\n",
      "4.6    220\n",
      "4.8    220\n",
      "4.5    219\n",
      "2.5    203\n",
      "3.3    199\n",
      "3.0    197\n",
      "4.7    191\n",
      "5.0    186\n",
      "3.2    179\n",
      "2.4    175\n",
      "2.1    162\n",
      "3.1    156\n",
      "2.3    154\n",
      "1.0    127\n",
      "2.2    110\n",
      "1.8      8\n",
      "1.7      5\n",
      "1.3      3\n",
      "1.4      2\n",
      "1.6      1\n",
      "1.5      1\n",
      "1.1      1\n",
      "Name: condition, dtype: int64\n"
     ]
    }
   ],
   "source": [
    "#Rate the Ford Cars\n",
    "Ford_rating = {'Excellent':5,'New':4,'Like New':3, 'Good':2,'Fair':1}\n",
    "#Determine the number of cars fulfilling a certain car rating\n",
    "print(cars['condition'].value_counts())"
   ]
  },
  {
   "cell_type": "code",
   "execution_count": 38,
   "id": "3671866b",
   "metadata": {},
   "outputs": [
    {
     "data": {
      "text/plain": [
       "array([1.9, 4.9, 3.8, 5. , 4.1, 4.4, 2.8, 3.5, 4.7, 3.4, 3.9, 2. , 3.7,\n",
       "       2.9, 3.6, 4.8, 3. , 2.5, 4.6, 2.2, 2.7, 4.2, 2.6, 1. , 3.2, 4.5,\n",
       "       4.3, 1.8, 4. , 3.3, nan, 2.3, 2.1, 3.1, 2.4, 1.3, 1.7, 1.6, 1.4,\n",
       "       1.5, 1.1])"
      ]
     },
     "execution_count": 38,
     "metadata": {},
     "output_type": "execute_result"
    }
   ],
   "source": [
    "#Creating the 'Condition' variable based on the car rating\n",
    "cars['condition'].unique()"
   ]
  },
  {
   "cell_type": "code",
   "execution_count": 39,
   "id": "a50c17b0",
   "metadata": {},
   "outputs": [
    {
     "name": "stdout",
     "output_type": "stream",
     "text": [
      "1.0 5.0\n"
     ]
    }
   ],
   "source": [
    "#printing min and max value of the condition of the cars\n",
    "print(min(cars['condition'].unique()),max(cars['condition'].unique()))"
   ]
  },
  {
   "cell_type": "code",
   "execution_count": 40,
   "id": "a53fa2be",
   "metadata": {},
   "outputs": [
    {
     "data": {
      "text/plain": [
       "array(['Fair', 'New', 'Like New', 'Excellent', 'Good', None], dtype=object)"
      ]
     },
     "execution_count": 40,
     "metadata": {},
     "output_type": "execute_result"
    }
   ],
   "source": [
    "# categorizing the output based on the conditions\n",
    "\n",
    "def convert_condition(A):\n",
    "    if 1.0 <= A < 2.0:\n",
    "        return 'Fair'\n",
    "\n",
    "    elif 2 <= A < 3:\n",
    "        return 'Good'\n",
    "\n",
    "    elif 3 <= A < 4:\n",
    "        return 'Like New'\n",
    "\n",
    "    elif 4 <= A < 5:\n",
    "        return 'New'\n",
    "\n",
    "    elif A == 5:\n",
    "        return 'Excellent'\n",
    "\n",
    "    else:\n",
    "        'Unknown'\n",
    "\n",
    "cars[\"condition\"] = cars[\"condition\"].apply(convert_condition)\n",
    "\n",
    "#finding the unique car conditions\n",
    "cars['condition'].unique()"
   ]
  },
  {
   "cell_type": "code",
   "execution_count": 41,
   "id": "06b74958",
   "metadata": {},
   "outputs": [
    {
     "data": {
      "text/plain": [
       "array(['Fair', 'New', 'Like New', 'Excellent', 'Good', None], dtype=object)"
      ]
     },
     "execution_count": 41,
     "metadata": {},
     "output_type": "execute_result"
    }
   ],
   "source": [
    "#finding the unique car conditions after transforming ratings back to comments\n",
    "cars['condition'].unique()"
   ]
  },
  {
   "cell_type": "code",
   "execution_count": 42,
   "id": "a43e3b9c",
   "metadata": {},
   "outputs": [
    {
     "data": {
      "text/plain": [
       "array(['blue', '—', 'gold', 'white', 'red', 'silver', 'black', 'gray',\n",
       "       'burgundy', 'brown', 'turquoise', 'orange', 'green', 'beige',\n",
       "       'yellow', 'purple', 'off-white', 'charcoal', nan, 'pink'],\n",
       "      dtype=object)"
      ]
     },
     "execution_count": 42,
     "metadata": {},
     "output_type": "execute_result"
    }
   ],
   "source": [
    "#finding the unique colors of cars\n",
    "cars['color'].unique()"
   ]
  },
  {
   "cell_type": "code",
   "execution_count": 43,
   "id": "35fa8d62",
   "metadata": {},
   "outputs": [
    {
     "data": {
      "text/plain": [
       "19"
      ]
     },
     "execution_count": 43,
     "metadata": {},
     "output_type": "execute_result"
    }
   ],
   "source": [
    "#finding the number of unique colors of cars\n",
    "cars['color'].nunique()"
   ]
  },
  {
   "cell_type": "code",
   "execution_count": 44,
   "id": "b3510f61",
   "metadata": {},
   "outputs": [
    {
     "name": "stdout",
     "output_type": "stream",
     "text": [
      "black     2015\n",
      "white     1931\n",
      "gray      1506\n",
      "silver    1503\n",
      "blue       869\n",
      "Name: color, dtype: int64\n"
     ]
    }
   ],
   "source": [
    "#find the top most produced colors of cars\n",
    "print(cars['color'].value_counts()[:5])"
   ]
  },
  {
   "cell_type": "code",
   "execution_count": 45,
   "id": "85f2fd48",
   "metadata": {},
   "outputs": [
    {
     "data": {
      "text/plain": [
       "Unnamed: 0        int64\n",
       "year              int64\n",
       "make             object\n",
       "model            object\n",
       "trim             object\n",
       "body             object\n",
       "transmission     object\n",
       "vin              object\n",
       "state            object\n",
       "condition        object\n",
       "odometer        float64\n",
       "color            object\n",
       "interior         object\n",
       "seller           object\n",
       "mmr               int64\n",
       "sellingprice      int64\n",
       "saledate         object\n",
       "dtype: object"
      ]
     },
     "execution_count": 45,
     "metadata": {},
     "output_type": "execute_result"
    }
   ],
   "source": [
    "#find the data types of the variables of the dataset 'cars.csv'\n",
    "cars.dtypes"
   ]
  },
  {
   "cell_type": "code",
   "execution_count": 48,
   "id": "641024e6",
   "metadata": {},
   "outputs": [
    {
     "name": "stdout",
     "output_type": "stream",
     "text": [
      "2     2015\n",
      "17    1931\n",
      "8     1506\n",
      "15    1503\n",
      "3      869\n",
      "Name: color, dtype: int64\n"
     ]
    }
   ],
   "source": [
    "#to convert the variable 'color' as type 'category'\n",
    "cars['color'] = cars['color'].astype('category')\n",
    "cars['color'] = cars['color'].cat.codes\n",
    "print(cars['color'].value_counts()[:5])"
   ]
  },
  {
   "cell_type": "code",
   "execution_count": null,
   "id": "c55c1129",
   "metadata": {},
   "outputs": [],
   "source": []
  }
 ],
 "metadata": {
  "kernelspec": {
   "display_name": "Python 3 (ipykernel)",
   "language": "python",
   "name": "python3"
  },
  "language_info": {
   "codemirror_mode": {
    "name": "ipython",
    "version": 3
   },
   "file_extension": ".py",
   "mimetype": "text/x-python",
   "name": "python",
   "nbconvert_exporter": "python",
   "pygments_lexer": "ipython3",
   "version": "3.9.12"
  }
 },
 "nbformat": 4,
 "nbformat_minor": 5
}
