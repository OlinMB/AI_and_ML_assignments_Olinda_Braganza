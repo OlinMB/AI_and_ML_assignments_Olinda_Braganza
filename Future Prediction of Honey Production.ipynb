{
 "cells": [
  {
   "cell_type": "code",
   "execution_count": 1,
   "id": "ad5d8303",
   "metadata": {},
   "outputs": [],
   "source": [
    "#for the linear regression model\n",
    "from sklearn.linear_model import LinearRegression\n",
    "#for splitting the dataset into training and testing data\n",
    "from sklearn.model_selection import train_test_split\n",
    "#for manipulation of the dataframe\n",
    "import pandas as pd\n",
    "import numpy as np\n",
    "#to plot the linear regression graph\n",
    "import matplotlib.pyplot as plt"
   ]
  },
  {
   "cell_type": "code",
   "execution_count": 2,
   "id": "a0194987",
   "metadata": {},
   "outputs": [
    {
     "data": {
      "text/html": [
       "<div>\n",
       "<style scoped>\n",
       "    .dataframe tbody tr th:only-of-type {\n",
       "        vertical-align: middle;\n",
       "    }\n",
       "\n",
       "    .dataframe tbody tr th {\n",
       "        vertical-align: top;\n",
       "    }\n",
       "\n",
       "    .dataframe thead th {\n",
       "        text-align: right;\n",
       "    }\n",
       "</style>\n",
       "<table border=\"1\" class=\"dataframe\">\n",
       "  <thead>\n",
       "    <tr style=\"text-align: right;\">\n",
       "      <th></th>\n",
       "      <th>state</th>\n",
       "      <th>numcol</th>\n",
       "      <th>yieldpercol</th>\n",
       "      <th>totalprod</th>\n",
       "      <th>stocks</th>\n",
       "      <th>priceperlb</th>\n",
       "      <th>prodvalue</th>\n",
       "      <th>year</th>\n",
       "    </tr>\n",
       "  </thead>\n",
       "  <tbody>\n",
       "    <tr>\n",
       "      <th>0</th>\n",
       "      <td>AL</td>\n",
       "      <td>16000.0</td>\n",
       "      <td>71</td>\n",
       "      <td>1136000.0</td>\n",
       "      <td>159000.0</td>\n",
       "      <td>0.72</td>\n",
       "      <td>818000.0</td>\n",
       "      <td>1998</td>\n",
       "    </tr>\n",
       "    <tr>\n",
       "      <th>1</th>\n",
       "      <td>AZ</td>\n",
       "      <td>55000.0</td>\n",
       "      <td>60</td>\n",
       "      <td>3300000.0</td>\n",
       "      <td>1485000.0</td>\n",
       "      <td>0.64</td>\n",
       "      <td>2112000.0</td>\n",
       "      <td>1998</td>\n",
       "    </tr>\n",
       "    <tr>\n",
       "      <th>2</th>\n",
       "      <td>AR</td>\n",
       "      <td>53000.0</td>\n",
       "      <td>65</td>\n",
       "      <td>3445000.0</td>\n",
       "      <td>1688000.0</td>\n",
       "      <td>0.59</td>\n",
       "      <td>2033000.0</td>\n",
       "      <td>1998</td>\n",
       "    </tr>\n",
       "    <tr>\n",
       "      <th>3</th>\n",
       "      <td>CA</td>\n",
       "      <td>450000.0</td>\n",
       "      <td>83</td>\n",
       "      <td>37350000.0</td>\n",
       "      <td>12326000.0</td>\n",
       "      <td>0.62</td>\n",
       "      <td>23157000.0</td>\n",
       "      <td>1998</td>\n",
       "    </tr>\n",
       "    <tr>\n",
       "      <th>4</th>\n",
       "      <td>CO</td>\n",
       "      <td>27000.0</td>\n",
       "      <td>72</td>\n",
       "      <td>1944000.0</td>\n",
       "      <td>1594000.0</td>\n",
       "      <td>0.70</td>\n",
       "      <td>1361000.0</td>\n",
       "      <td>1998</td>\n",
       "    </tr>\n",
       "  </tbody>\n",
       "</table>\n",
       "</div>"
      ],
      "text/plain": [
       "  state    numcol  yieldpercol   totalprod      stocks  priceperlb  \\\n",
       "0    AL   16000.0           71   1136000.0    159000.0        0.72   \n",
       "1    AZ   55000.0           60   3300000.0   1485000.0        0.64   \n",
       "2    AR   53000.0           65   3445000.0   1688000.0        0.59   \n",
       "3    CA  450000.0           83  37350000.0  12326000.0        0.62   \n",
       "4    CO   27000.0           72   1944000.0   1594000.0        0.70   \n",
       "\n",
       "    prodvalue  year  \n",
       "0    818000.0  1998  \n",
       "1   2112000.0  1998  \n",
       "2   2033000.0  1998  \n",
       "3  23157000.0  1998  \n",
       "4   1361000.0  1998  "
      ]
     },
     "execution_count": 2,
     "metadata": {},
     "output_type": "execute_result"
    }
   ],
   "source": [
    "#import the dataset \n",
    "honey = pd.read_csv('data.csv', delimiter=';')\n",
    "#present first five rows of the dataset\n",
    "honey.head()"
   ]
  },
  {
   "cell_type": "code",
   "execution_count": 3,
   "id": "fc0b64dc",
   "metadata": {},
   "outputs": [
    {
     "data": {
      "text/plain": [
       "year\n",
       "2001    44\n",
       "2002    44\n",
       "2003    44\n",
       "1998    43\n",
       "1999    43\n",
       "2000    43\n",
       "2004    41\n",
       "2005    41\n",
       "2006    41\n",
       "2007    41\n",
       "2008    41\n",
       "2009    40\n",
       "2010    40\n",
       "2011    40\n",
       "2012    40\n",
       "dtype: int64"
      ]
     },
     "execution_count": 3,
     "metadata": {},
     "output_type": "execute_result"
    }
   ],
   "source": [
    "#find the unique values in the variable 'year' and the number of times it repeats in the dataset\n",
    "honey_year = honey.value_counts(honey.year)\n",
    "honey_year"
   ]
  },
  {
   "cell_type": "code",
   "execution_count": 4,
   "id": "d1ebd0d2",
   "metadata": {},
   "outputs": [
    {
     "data": {
      "text/plain": [
       "state\n",
       "AL    15\n",
       "MT    15\n",
       "ND    15\n",
       "NE    15\n",
       "NJ    15\n",
       "NM    15\n",
       "NY    15\n",
       "OH    15\n",
       "OR    15\n",
       "PA    15\n",
       "SD    15\n",
       "TN    15\n",
       "TX    15\n",
       "UT    15\n",
       "VA    15\n",
       "VT    15\n",
       "WA    15\n",
       "WI    15\n",
       "WV    15\n",
       "AR    15\n",
       "NC    15\n",
       "MS    15\n",
       "MO    15\n",
       "AZ    15\n",
       "CA    15\n",
       "CO    15\n",
       "FL    15\n",
       "GA    15\n",
       "HI    15\n",
       "IA    15\n",
       "ID    15\n",
       "IL    15\n",
       "IN    15\n",
       "KS    15\n",
       "KY    15\n",
       "LA    15\n",
       "ME    15\n",
       "MI    15\n",
       "MN    15\n",
       "WY    15\n",
       "NV    11\n",
       "OK     6\n",
       "MD     6\n",
       "SC     3\n",
       "dtype: int64"
      ]
     },
     "execution_count": 4,
     "metadata": {},
     "output_type": "execute_result"
    }
   ],
   "source": [
    "#find the unique values in the variable 'state' and the number of times it repeats in the dataset\n",
    "honey_state = honey.value_counts(honey.state)\n",
    "honey_state"
   ]
  },
  {
   "cell_type": "markdown",
   "id": "8d2368bb",
   "metadata": {},
   "source": [
    "## North Dakota\n",
    "\n",
    "Now we analyse the honey production for the state of North Dakota and will predict the future total production in the state."
   ]
  },
  {
   "cell_type": "code",
   "execution_count": 5,
   "id": "e1e372e7",
   "metadata": {},
   "outputs": [
    {
     "data": {
      "text/html": [
       "<div>\n",
       "<style scoped>\n",
       "    .dataframe tbody tr th:only-of-type {\n",
       "        vertical-align: middle;\n",
       "    }\n",
       "\n",
       "    .dataframe tbody tr th {\n",
       "        vertical-align: top;\n",
       "    }\n",
       "\n",
       "    .dataframe thead th {\n",
       "        text-align: right;\n",
       "    }\n",
       "</style>\n",
       "<table border=\"1\" class=\"dataframe\">\n",
       "  <thead>\n",
       "    <tr style=\"text-align: right;\">\n",
       "      <th></th>\n",
       "      <th>state</th>\n",
       "      <th>numcol</th>\n",
       "      <th>yieldpercol</th>\n",
       "      <th>totalprod</th>\n",
       "      <th>stocks</th>\n",
       "      <th>priceperlb</th>\n",
       "      <th>prodvalue</th>\n",
       "      <th>year</th>\n",
       "    </tr>\n",
       "  </thead>\n",
       "  <tbody>\n",
       "    <tr>\n",
       "      <th>28</th>\n",
       "      <td>ND</td>\n",
       "      <td>230000.0</td>\n",
       "      <td>128</td>\n",
       "      <td>29440000.0</td>\n",
       "      <td>8832000.0</td>\n",
       "      <td>0.63</td>\n",
       "      <td>18547000.0</td>\n",
       "      <td>1998</td>\n",
       "    </tr>\n",
       "    <tr>\n",
       "      <th>71</th>\n",
       "      <td>ND</td>\n",
       "      <td>255000.0</td>\n",
       "      <td>105</td>\n",
       "      <td>26775000.0</td>\n",
       "      <td>8836000.0</td>\n",
       "      <td>0.59</td>\n",
       "      <td>15797000.0</td>\n",
       "      <td>1999</td>\n",
       "    </tr>\n",
       "    <tr>\n",
       "      <th>114</th>\n",
       "      <td>ND</td>\n",
       "      <td>300000.0</td>\n",
       "      <td>115</td>\n",
       "      <td>34500000.0</td>\n",
       "      <td>13800000.0</td>\n",
       "      <td>0.57</td>\n",
       "      <td>19665000.0</td>\n",
       "      <td>2000</td>\n",
       "    </tr>\n",
       "    <tr>\n",
       "      <th>157</th>\n",
       "      <td>ND</td>\n",
       "      <td>280000.0</td>\n",
       "      <td>96</td>\n",
       "      <td>26880000.0</td>\n",
       "      <td>9408000.0</td>\n",
       "      <td>0.69</td>\n",
       "      <td>18547000.0</td>\n",
       "      <td>2001</td>\n",
       "    </tr>\n",
       "    <tr>\n",
       "      <th>201</th>\n",
       "      <td>ND</td>\n",
       "      <td>320000.0</td>\n",
       "      <td>75</td>\n",
       "      <td>24000000.0</td>\n",
       "      <td>8160000.0</td>\n",
       "      <td>1.46</td>\n",
       "      <td>35040000.0</td>\n",
       "      <td>2002</td>\n",
       "    </tr>\n",
       "  </tbody>\n",
       "</table>\n",
       "</div>"
      ],
      "text/plain": [
       "    state    numcol  yieldpercol   totalprod      stocks  priceperlb  \\\n",
       "28     ND  230000.0          128  29440000.0   8832000.0        0.63   \n",
       "71     ND  255000.0          105  26775000.0   8836000.0        0.59   \n",
       "114    ND  300000.0          115  34500000.0  13800000.0        0.57   \n",
       "157    ND  280000.0           96  26880000.0   9408000.0        0.69   \n",
       "201    ND  320000.0           75  24000000.0   8160000.0        1.46   \n",
       "\n",
       "      prodvalue  year  \n",
       "28   18547000.0  1998  \n",
       "71   15797000.0  1999  \n",
       "114  19665000.0  2000  \n",
       "157  18547000.0  2001  \n",
       "201  35040000.0  2002  "
      ]
     },
     "execution_count": 5,
     "metadata": {},
     "output_type": "execute_result"
    }
   ],
   "source": [
    "#creating a dataset where the value of the variable state is only 'ND'\n",
    "honey_ND  = honey[honey['state'].isin(honey.loc[honey['state'].eq('ND'), 'state'])]\n",
    "honey_ND.head()"
   ]
  },
  {
   "cell_type": "code",
   "execution_count": 6,
   "id": "f6638a7f",
   "metadata": {},
   "outputs": [],
   "source": [
    "#defining the independent (x) variable and dependent (y) variable\n",
    "y_nd = honey_ND['totalprod']\n",
    "x_nd = honey_ND['year']\n",
    "#reshaping the column into an array\n",
    "x_nd = x_nd.values.reshape(-1,1)"
   ]
  },
  {
   "cell_type": "code",
   "execution_count": 7,
   "id": "5a59738d",
   "metadata": {},
   "outputs": [],
   "source": [
    "#initializing the linear regression model for the dataset\n",
    "model_nd = LinearRegression()"
   ]
  },
  {
   "cell_type": "code",
   "execution_count": 8,
   "id": "d91c173a",
   "metadata": {},
   "outputs": [
    {
     "data": {
      "text/plain": [
       "LinearRegression()"
      ]
     },
     "execution_count": 8,
     "metadata": {},
     "output_type": "execute_result"
    }
   ],
   "source": [
    "#to fit the dataset 'honey_ND' in the linear regression model\n",
    "model_nd.fit(x_nd, y_nd)"
   ]
  },
  {
   "cell_type": "code",
   "execution_count": 9,
   "id": "84d56176",
   "metadata": {},
   "outputs": [
    {
     "name": "stdout",
     "output_type": "stream",
     "text": [
      "intercept for ND: -1301509452.3809526\n",
      "co-efficient for ND: [664928.57142857]\n"
     ]
    }
   ],
   "source": [
    "#to find the intercept and coefficient of the trained model\n",
    "print('intercept for ND:', model_nd.intercept_)\n",
    "print('co-efficient for ND:', model_nd.coef_)"
   ]
  },
  {
   "cell_type": "code",
   "execution_count": 10,
   "id": "94395339",
   "metadata": {},
   "outputs": [],
   "source": [
    "#predict values of total production for the years existing in the dataset\n",
    "y_nd_model = model_nd.predict(x_nd)"
   ]
  },
  {
   "cell_type": "code",
   "execution_count": 11,
   "id": "d9049715",
   "metadata": {},
   "outputs": [],
   "source": [
    "#define future years for future prediction and convert the column to an array\n",
    "x_nd_predict = np.array(range(2013,2051))\n",
    "x_nd_predict = x_nd_predict.reshape(-1, 1)"
   ]
  },
  {
   "cell_type": "code",
   "execution_count": 12,
   "id": "64e9f7eb",
   "metadata": {},
   "outputs": [
    {
     "data": {
      "text/plain": [
       "array([36991761.90476179, 37656690.47619033, 38321619.04761887,\n",
       "       38986547.6190474 , 39651476.19047618, 40316404.76190472,\n",
       "       40981333.33333325, 41646261.90476179, 42311190.47619033,\n",
       "       42976119.04761887, 43641047.6190474 , 44305976.19047618,\n",
       "       44970904.76190472, 45635833.33333325, 46300761.90476179,\n",
       "       46965690.47619033, 47630619.04761887, 48295547.6190474 ,\n",
       "       48960476.19047618, 49625404.76190472, 50290333.33333325,\n",
       "       50955261.90476179, 51620190.47619033, 52285119.04761887,\n",
       "       52950047.6190474 , 53614976.19047618, 54279904.76190472,\n",
       "       54944833.33333325, 55609761.90476179, 56274690.47619033,\n",
       "       56939619.04761887, 57604547.6190474 , 58269476.19047618,\n",
       "       58934404.76190472, 59599333.33333325, 60264261.90476179,\n",
       "       60929190.47619033, 61594119.04761887])"
      ]
     },
     "execution_count": 12,
     "metadata": {},
     "output_type": "execute_result"
    }
   ],
   "source": [
    "#run the 'x_nd_predict' values through the trained model and predict the values of future total production\n",
    "y_nd_predict = model_nd.predict(x_nd_predict)\n",
    "y_nd_predict"
   ]
  },
  {
   "cell_type": "code",
   "execution_count": 13,
   "id": "8da6f883",
   "metadata": {
    "scrolled": true
   },
   "outputs": [
    {
     "data": {
      "image/png": "[encoded data removed]",
      "text/plain": [
       "<Figure size 432x288 with 1 Axes>"
      ]
     },
     "metadata": {
      "needs_background": "light"
     },
     "output_type": "display_data"
    }
   ],
   "source": [
    "#plot the prediction\n",
    "plt.xlabel(\"year\")\n",
    "plt.ylabel(\"Total production in North Dakota\")\n",
    "plt.scatter(x_nd, y_nd, color = \"b\", label = \"original\")\n",
    "plt.plot(x_nd, y_nd_model, color = \"g\", label = \"fit\")\n",
    "plt.scatter(x_nd_predict, y_nd_predict, color = \"k\", label = \"prediction\")\n",
    "plt.show()"
   ]
  },
  {
   "cell_type": "markdown",
   "id": "b6ad4552",
   "metadata": {},
   "source": [
    "## Ohio\n",
    "\n",
    "Now we analyse the honey production for the state of Ohio and will predict the future total production in the state."
   ]
  },
  {
   "cell_type": "code",
   "execution_count": 14,
   "id": "791a15e4",
   "metadata": {},
   "outputs": [
    {
     "data": {
      "text/html": [
       "<div>\n",
       "<style scoped>\n",
       "    .dataframe tbody tr th:only-of-type {\n",
       "        vertical-align: middle;\n",
       "    }\n",
       "\n",
       "    .dataframe tbody tr th {\n",
       "        vertical-align: top;\n",
       "    }\n",
       "\n",
       "    .dataframe thead th {\n",
       "        text-align: right;\n",
       "    }\n",
       "</style>\n",
       "<table border=\"1\" class=\"dataframe\">\n",
       "  <thead>\n",
       "    <tr style=\"text-align: right;\">\n",
       "      <th></th>\n",
       "      <th>state</th>\n",
       "      <th>numcol</th>\n",
       "      <th>yieldpercol</th>\n",
       "      <th>totalprod</th>\n",
       "      <th>stocks</th>\n",
       "      <th>priceperlb</th>\n",
       "      <th>prodvalue</th>\n",
       "      <th>year</th>\n",
       "    </tr>\n",
       "  </thead>\n",
       "  <tbody>\n",
       "    <tr>\n",
       "      <th>29</th>\n",
       "      <td>OH</td>\n",
       "      <td>18000.0</td>\n",
       "      <td>78</td>\n",
       "      <td>1404000.0</td>\n",
       "      <td>702000.0</td>\n",
       "      <td>0.83</td>\n",
       "      <td>1165000.0</td>\n",
       "      <td>1998</td>\n",
       "    </tr>\n",
       "    <tr>\n",
       "      <th>72</th>\n",
       "      <td>OH</td>\n",
       "      <td>20000.0</td>\n",
       "      <td>74</td>\n",
       "      <td>1480000.0</td>\n",
       "      <td>784000.0</td>\n",
       "      <td>0.72</td>\n",
       "      <td>1066000.0</td>\n",
       "      <td>1999</td>\n",
       "    </tr>\n",
       "    <tr>\n",
       "      <th>115</th>\n",
       "      <td>OH</td>\n",
       "      <td>18000.0</td>\n",
       "      <td>65</td>\n",
       "      <td>1170000.0</td>\n",
       "      <td>585000.0</td>\n",
       "      <td>0.79</td>\n",
       "      <td>924000.0</td>\n",
       "      <td>2000</td>\n",
       "    </tr>\n",
       "    <tr>\n",
       "      <th>158</th>\n",
       "      <td>OH</td>\n",
       "      <td>18000.0</td>\n",
       "      <td>81</td>\n",
       "      <td>1458000.0</td>\n",
       "      <td>569000.0</td>\n",
       "      <td>1.01</td>\n",
       "      <td>1473000.0</td>\n",
       "      <td>2001</td>\n",
       "    </tr>\n",
       "    <tr>\n",
       "      <th>202</th>\n",
       "      <td>OH</td>\n",
       "      <td>18000.0</td>\n",
       "      <td>70</td>\n",
       "      <td>1260000.0</td>\n",
       "      <td>504000.0</td>\n",
       "      <td>1.44</td>\n",
       "      <td>1814000.0</td>\n",
       "      <td>2002</td>\n",
       "    </tr>\n",
       "  </tbody>\n",
       "</table>\n",
       "</div>"
      ],
      "text/plain": [
       "    state   numcol  yieldpercol  totalprod    stocks  priceperlb  prodvalue  \\\n",
       "29     OH  18000.0           78  1404000.0  702000.0        0.83  1165000.0   \n",
       "72     OH  20000.0           74  1480000.0  784000.0        0.72  1066000.0   \n",
       "115    OH  18000.0           65  1170000.0  585000.0        0.79   924000.0   \n",
       "158    OH  18000.0           81  1458000.0  569000.0        1.01  1473000.0   \n",
       "202    OH  18000.0           70  1260000.0  504000.0        1.44  1814000.0   \n",
       "\n",
       "     year  \n",
       "29   1998  \n",
       "72   1999  \n",
       "115  2000  \n",
       "158  2001  \n",
       "202  2002  "
      ]
     },
     "execution_count": 14,
     "metadata": {},
     "output_type": "execute_result"
    }
   ],
   "source": [
    "#creating a dataset where the value of the variable state is only 'OH'\n",
    "honey_OH  = honey[honey['state'].isin(honey.loc[honey['state'].eq('OH'), 'state'])]\n",
    "honey_OH.head()"
   ]
  },
  {
   "cell_type": "code",
   "execution_count": 15,
   "id": "3c343b9b",
   "metadata": {},
   "outputs": [],
   "source": [
    "#defining the independent (x) variable and dependent (y) variable\n",
    "y_oh = honey_OH['totalprod']\n",
    "x_oh = honey_OH['year']\n",
    "#reshaping the column into an array\n",
    "x_oh = x_oh.values.reshape(-1,1)"
   ]
  },
  {
   "cell_type": "code",
   "execution_count": 16,
   "id": "4d640404",
   "metadata": {},
   "outputs": [],
   "source": [
    "#initializing the linear regression model for the dataset\n",
    "model_oh = LinearRegression()"
   ]
  },
  {
   "cell_type": "code",
   "execution_count": 17,
   "id": "7a5e82b9",
   "metadata": {},
   "outputs": [
    {
     "data": {
      "text/plain": [
       "LinearRegression()"
      ]
     },
     "execution_count": 17,
     "metadata": {},
     "output_type": "execute_result"
    }
   ],
   "source": [
    "#to fit the dataset 'salary' in the linear regression model\n",
    "model_oh.fit(x_oh, y_oh)"
   ]
  },
  {
   "cell_type": "code",
   "execution_count": 18,
   "id": "9bd72ecb",
   "metadata": {},
   "outputs": [
    {
     "name": "stdout",
     "output_type": "stream",
     "text": [
      "intercept for OH: 76943638.09523809\n",
      "co-efficient for OH: [-37857.14285714]\n"
     ]
    }
   ],
   "source": [
    "#to find the intercept and coefficient of the trained model\n",
    "print('intercept for OH:', model_oh.intercept_)\n",
    "print('co-efficient for OH:', model_oh.coef_)"
   ]
  },
  {
   "cell_type": "code",
   "execution_count": 19,
   "id": "0e10125c",
   "metadata": {},
   "outputs": [],
   "source": [
    "#predict values of total production for the years existing in the dataset\n",
    "y_oh_model = model_oh.predict(x_oh)"
   ]
  },
  {
   "cell_type": "code",
   "execution_count": 20,
   "id": "4d03db8e",
   "metadata": {},
   "outputs": [],
   "source": [
    "#define future years for future prediction and convert the column to an array\n",
    "x_oh_predict = np.array(range(2013,2051))\n",
    "x_oh_predict = x_oh_predict.reshape(-1, 1)"
   ]
  },
  {
   "cell_type": "code",
   "execution_count": 21,
   "id": "179244ab",
   "metadata": {},
   "outputs": [
    {
     "data": {
      "text/plain": [
       "array([ 737209.52380952,  699352.38095237,  661495.23809524,\n",
       "        623638.09523809,  585780.95238096,  547923.80952381,\n",
       "        510066.66666667,  472209.52380952,  434352.38095237,\n",
       "        396495.23809524,  358638.09523809,  320780.95238096,\n",
       "        282923.80952381,  245066.66666667,  207209.52380952,\n",
       "        169352.38095237,  131495.23809524,   93638.09523809,\n",
       "         55780.95238096,   17923.80952381,  -19933.33333333,\n",
       "        -57790.47619048,  -95647.61904763, -133504.76190476,\n",
       "       -171361.90476191, -209219.04761904, -247076.19047619,\n",
       "       -284933.33333333, -322790.47619048, -360647.61904763,\n",
       "       -398504.76190476, -436361.90476191, -474219.04761904,\n",
       "       -512076.19047619, -549933.33333333, -587790.47619048,\n",
       "       -625647.61904763, -663504.76190476])"
      ]
     },
     "execution_count": 21,
     "metadata": {},
     "output_type": "execute_result"
    }
   ],
   "source": [
    "#run the 'x_nd_predict' values through the trained model and predict the values of future total production\n",
    "y_oh_predict = model_oh.predict(x_oh_predict)\n",
    "y_oh_predict"
   ]
  },
  {
   "cell_type": "code",
   "execution_count": 22,
   "id": "40858fde",
   "metadata": {},
   "outputs": [
    {
     "data": {
      "image/png": "[encoded data removed]",
      "text/plain": [
       "<Figure size 432x288 with 1 Axes>"
      ]
     },
     "metadata": {
      "needs_background": "light"
     },
     "output_type": "display_data"
    }
   ],
   "source": [
    "#plot the prediction\n",
    "plt.xlabel(\"year\")\n",
    "plt.ylabel(\"Total production in North Dakota\")\n",
    "plt.scatter(x_oh, y_oh, color = \"b\", label = \"original\")\n",
    "plt.plot(x_oh, y_oh_model, color = \"g\", label = \"fit\")\n",
    "plt.scatter(x_oh_predict, y_oh_predict, color = \"k\", label = \"prediction\")\n",
    "plt.show()"
   ]
  },
  {
   "cell_type": "markdown",
   "id": "df251d8a",
   "metadata": {},
   "source": [
    "## New York\n",
    "\n",
    "Now we analyse the honey production for the state of North Dakota and will predict the future total production in the state."
   ]
  },
  {
   "cell_type": "code",
   "execution_count": 23,
   "id": "cd37a99b",
   "metadata": {},
   "outputs": [
    {
     "data": {
      "text/html": [
       "<div>\n",
       "<style scoped>\n",
       "    .dataframe tbody tr th:only-of-type {\n",
       "        vertical-align: middle;\n",
       "    }\n",
       "\n",
       "    .dataframe tbody tr th {\n",
       "        vertical-align: top;\n",
       "    }\n",
       "\n",
       "    .dataframe thead th {\n",
       "        text-align: right;\n",
       "    }\n",
       "</style>\n",
       "<table border=\"1\" class=\"dataframe\">\n",
       "  <thead>\n",
       "    <tr style=\"text-align: right;\">\n",
       "      <th></th>\n",
       "      <th>state</th>\n",
       "      <th>numcol</th>\n",
       "      <th>yieldpercol</th>\n",
       "      <th>totalprod</th>\n",
       "      <th>stocks</th>\n",
       "      <th>priceperlb</th>\n",
       "      <th>prodvalue</th>\n",
       "      <th>year</th>\n",
       "    </tr>\n",
       "  </thead>\n",
       "  <tbody>\n",
       "    <tr>\n",
       "      <th>26</th>\n",
       "      <td>NY</td>\n",
       "      <td>65000.0</td>\n",
       "      <td>80</td>\n",
       "      <td>5200000.0</td>\n",
       "      <td>2444000.0</td>\n",
       "      <td>0.70</td>\n",
       "      <td>3640000.0</td>\n",
       "      <td>1998</td>\n",
       "    </tr>\n",
       "    <tr>\n",
       "      <th>69</th>\n",
       "      <td>NY</td>\n",
       "      <td>69000.0</td>\n",
       "      <td>70</td>\n",
       "      <td>4830000.0</td>\n",
       "      <td>2077000.0</td>\n",
       "      <td>0.66</td>\n",
       "      <td>3188000.0</td>\n",
       "      <td>1999</td>\n",
       "    </tr>\n",
       "    <tr>\n",
       "      <th>112</th>\n",
       "      <td>NY</td>\n",
       "      <td>58000.0</td>\n",
       "      <td>80</td>\n",
       "      <td>4640000.0</td>\n",
       "      <td>2274000.0</td>\n",
       "      <td>0.55</td>\n",
       "      <td>2552000.0</td>\n",
       "      <td>2000</td>\n",
       "    </tr>\n",
       "    <tr>\n",
       "      <th>155</th>\n",
       "      <td>NY</td>\n",
       "      <td>53000.0</td>\n",
       "      <td>70</td>\n",
       "      <td>3710000.0</td>\n",
       "      <td>1781000.0</td>\n",
       "      <td>0.79</td>\n",
       "      <td>2931000.0</td>\n",
       "      <td>2001</td>\n",
       "    </tr>\n",
       "    <tr>\n",
       "      <th>199</th>\n",
       "      <td>NY</td>\n",
       "      <td>60000.0</td>\n",
       "      <td>98</td>\n",
       "      <td>5880000.0</td>\n",
       "      <td>2470000.0</td>\n",
       "      <td>1.25</td>\n",
       "      <td>7350000.0</td>\n",
       "      <td>2002</td>\n",
       "    </tr>\n",
       "  </tbody>\n",
       "</table>\n",
       "</div>"
      ],
      "text/plain": [
       "    state   numcol  yieldpercol  totalprod     stocks  priceperlb  prodvalue  \\\n",
       "26     NY  65000.0           80  5200000.0  2444000.0        0.70  3640000.0   \n",
       "69     NY  69000.0           70  4830000.0  2077000.0        0.66  3188000.0   \n",
       "112    NY  58000.0           80  4640000.0  2274000.0        0.55  2552000.0   \n",
       "155    NY  53000.0           70  3710000.0  1781000.0        0.79  2931000.0   \n",
       "199    NY  60000.0           98  5880000.0  2470000.0        1.25  7350000.0   \n",
       "\n",
       "     year  \n",
       "26   1998  \n",
       "69   1999  \n",
       "112  2000  \n",
       "155  2001  \n",
       "199  2002  "
      ]
     },
     "execution_count": 23,
     "metadata": {},
     "output_type": "execute_result"
    }
   ],
   "source": [
    "#creating a dataset where the value of the variable state is only 'NY'\n",
    "honey_NY  = honey[honey['state'].isin(honey.loc[honey['state'].eq('NY'), 'state'])]\n",
    "honey_NY.head()"
   ]
  },
  {
   "cell_type": "code",
   "execution_count": 24,
   "id": "a02187c3",
   "metadata": {},
   "outputs": [],
   "source": [
    "#defining the independent (x) variable and dependent (y) variable\n",
    "y_ny = honey_NY['totalprod']\n",
    "x_ny = honey_NY['year']\n",
    "#reshaping the column into an array\n",
    "x_ny = x_ny.values.reshape(-1,1)"
   ]
  },
  {
   "cell_type": "code",
   "execution_count": 25,
   "id": "288a3277",
   "metadata": {},
   "outputs": [],
   "source": [
    "#initializing the linear regression model for the dataset\n",
    "model_ny = LinearRegression()"
   ]
  },
  {
   "cell_type": "code",
   "execution_count": 26,
   "id": "75299c46",
   "metadata": {},
   "outputs": [
    {
     "data": {
      "text/plain": [
       "LinearRegression()"
      ]
     },
     "execution_count": 26,
     "metadata": {},
     "output_type": "execute_result"
    }
   ],
   "source": [
    "#to fit the dataset 'salary' in the linear regression model\n",
    "model_ny.fit(x_ny, y_ny)"
   ]
  },
  {
   "cell_type": "code",
   "execution_count": 27,
   "id": "e248fe29",
   "metadata": {},
   "outputs": [
    {
     "name": "stdout",
     "output_type": "stream",
     "text": [
      "intercept for NY: 390408377.3809524\n",
      "co-efficient for NY: [-192753.57142857]\n"
     ]
    }
   ],
   "source": [
    "#to find the intercept and coefficient of the trained model\n",
    "print('intercept for NY:', model_ny.intercept_)\n",
    "print('co-efficient for NY:', model_ny.coef_)"
   ]
  },
  {
   "cell_type": "code",
   "execution_count": 28,
   "id": "4d5d0b11",
   "metadata": {},
   "outputs": [],
   "source": [
    "#predict values of total production for the years existing in the dataset\n",
    "y_ny_model = model_ny.predict(x_ny)"
   ]
  },
  {
   "cell_type": "code",
   "execution_count": 29,
   "id": "4931fcdc",
   "metadata": {},
   "outputs": [],
   "source": [
    "#define future years for future prediction and convert the column to an array\n",
    "x_ny_predict = np.array(range(2013,2051))\n",
    "x_ny_predict = x_ny_predict.reshape(-1, 1)"
   ]
  },
  {
   "cell_type": "code",
   "execution_count": 30,
   "id": "1001e7d2",
   "metadata": {},
   "outputs": [
    {
     "data": {
      "text/plain": [
       "array([ 2395438.09523809,  2202684.52380949,  2009930.95238096,\n",
       "        1817177.38095236,  1624423.80952382,  1431670.23809522,\n",
       "        1238916.66666669,  1046163.09523809,   853409.52380949,\n",
       "         660655.95238096,   467902.38095236,   275148.80952382,\n",
       "          82395.23809522,  -110358.33333331,  -303111.90476191,\n",
       "        -495865.47619051,  -688619.04761904,  -881372.61904764,\n",
       "       -1074126.19047618, -1266879.76190478, -1459633.33333331,\n",
       "       -1652386.90476191, -1845140.47619051, -2037894.04761904,\n",
       "       -2230647.61904764, -2423401.19047618, -2616154.76190478,\n",
       "       -2808908.33333331, -3001661.90476191, -3194415.47619051,\n",
       "       -3387169.04761904, -3579922.61904764, -3772676.19047618,\n",
       "       -3965429.76190478, -4158183.33333331, -4350936.90476191,\n",
       "       -4543690.47619051, -4736444.04761904])"
      ]
     },
     "execution_count": 30,
     "metadata": {},
     "output_type": "execute_result"
    }
   ],
   "source": [
    "#run the 'x_nd_predict' values through the trained model and predict the values of future total production\n",
    "y_ny_predict = model_ny.predict(x_ny_predict)\n",
    "y_ny_predict"
   ]
  },
  {
   "cell_type": "code",
   "execution_count": 31,
   "id": "81a56906",
   "metadata": {},
   "outputs": [
    {
     "data": {
      "image/png": "[encoded data removed]",
      "text/plain": [
       "<Figure size 432x288 with 1 Axes>"
      ]
     },
     "metadata": {
      "needs_background": "light"
     },
     "output_type": "display_data"
    }
   ],
   "source": [
    "#plot the prediction\n",
    "plt.xlabel(\"year\")\n",
    "plt.ylabel(\"Total production in North Dakota\")\n",
    "plt.scatter(x_ny, y_ny, color = \"b\", label = \"original\")\n",
    "plt.plot(x_ny, y_ny_model, color = \"g\", label = \"fit\")\n",
    "plt.scatter(x_ny_predict, y_ny_predict, color = \"k\", label = \"prediction\")\n",
    "plt.show()"
   ]
  }
 ],
 "metadata": {
  "kernelspec": {
   "display_name": "Python 3 (ipykernel)",
   "language": "python",
   "name": "python3"
  },
  "language_info": {
   "codemirror_mode": {
    "name": "ipython",
    "version": 3
   },
   "file_extension": ".py",
   "mimetype": "text/x-python",
   "name": "python",
   "nbconvert_exporter": "python",
   "pygments_lexer": "ipython3",
   "version": "3.9.12"
  }
 },
 "nbformat": 4,
 "nbformat_minor": 5
}
